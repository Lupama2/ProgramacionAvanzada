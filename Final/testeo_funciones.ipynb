{
 "cells": [
  {
   "attachments": {},
   "cell_type": "markdown",
   "metadata": {},
   "source": [
    "## Testeo funciones\n",
    "\n",
    "Me es más sencillo realizar tests de funcionamiento en un notebook. Dejo algunos tests"
   ]
  },
  {
   "cell_type": "code",
   "execution_count": null,
   "metadata": {
    "dotnet_interactive": {
     "language": "csharp"
    },
    "polyglot_notebook": {
     "kernelName": "csharp"
    },
    "vscode": {
     "languageId": "polyglot-notebook"
    }
   },
   "outputs": [],
   "source": [
    "let presiona =\n",
    "    let mutable run = true\n",
    "\n",
    "    while run do\n",
    "        if Console.KeyAvailable then\n",
    "            let key = Console.ReadKey(true).Key\n",
    "            match key with\n",
    "            | ConsoleKey.Q -> run <- false // Presionar Q para detener el loop\n",
    "            | _ -> printfn \"Has presionado %A\" key\n",
    "        System.Threading.Thread.Sleep(1000) // espera un segundo\n",
    "    "
   ]
  }
 ],
 "metadata": {
  "language_info": {
   "name": "python"
  },
  "orig_nbformat": 4
 },
 "nbformat": 4,
 "nbformat_minor": 2
}

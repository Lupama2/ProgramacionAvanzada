{
 "cells": [
  {
   "attachments": {},
   "cell_type": "markdown",
   "metadata": {},
   "source": [
    "# Clase 08"
   ]
  },
  {
   "attachments": {},
   "cell_type": "markdown",
   "metadata": {},
   "source": [
    "De forma genérica se crea una secuencia de records, donde los campos de cada record son los headers. Los tipos de datos están determinados por lo que observa en los datos: por ejemplo tipo string, float o tipo option.\n",
    "\n",
    "¿Cómo sabe en la instancia de escritura del código el Html? Lo sabe en el momento de compilación.\n",
    "\n",
    "Esto tmb está en Pandas de Python"
   ]
  },
  {
   "cell_type": "code",
   "execution_count": null,
   "metadata": {},
   "outputs": [],
   "source": []
  }
 ],
 "metadata": {
  "language_info": {
   "name": "python"
  },
  "orig_nbformat": 4
 },
 "nbformat": 4,
 "nbformat_minor": 2
}

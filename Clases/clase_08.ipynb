{
 "cells": [
  {
   "attachments": {},
   "cell_type": "markdown",
   "metadata": {},
   "source": [
    "# Clase 08"
   ]
  },
  {
   "attachments": {},
   "cell_type": "markdown",
   "metadata": {},
   "source": [
    "De forma genérica se crea una secuencia de records, donde los campos de cada record son los headers. Los tipos de datos están determinados por lo que observa en los datos: por ejemplo tipo string, float o tipo option.\n",
    "\n",
    "¿Cómo sabe en la instancia de escritura del código el Html? Lo sabe en el momento de compilación.\n",
    "\n",
    "Esto tmb está en Pandas de Python"
   ]
  },
  {
   "attachments": {},
   "cell_type": "markdown",
   "metadata": {},
   "source": [
    "Ver los ISSUES de Programación Avanzada\n",
    "\n",
    "¿Cómo hago para copiar un repo? No tengo que clonarlo directamente. Sino que tengo que hacer un fork y luego clonar en mi pc el fork. De este modo yo puedo modificar el repo, hacer comitts, pushes, etc, y luego decidir cuándo y qué traerme del repo que forkee"
   ]
  },
  {
   "cell_type": "code",
   "execution_count": null,
   "metadata": {},
   "outputs": [],
   "source": []
  }
 ],
 "metadata": {
  "language_info": {
   "name": "python"
  },
  "orig_nbformat": 4
 },
 "nbformat": 4,
 "nbformat_minor": 2
}

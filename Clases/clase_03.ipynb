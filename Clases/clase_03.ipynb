{
 "cells": [
  {
   "attachments": {},
   "cell_type": "markdown",
   "metadata": {},
   "source": [
    "# Clase 04"
   ]
  },
  {
   "attachments": {},
   "cell_type": "markdown",
   "metadata": {},
   "source": [
    "\n",
    "### El _Kata_ del semáforo\n",
    "\n",
    "Considere un semáforo vehicular que tiene tres luces de colores Rojo, Verde y Amarillo. Estas luces se encienden durante un cierto número de segundos\n",
    "en un orden específico: 🔴 ➡ 🟡 ➡ 🟢 ➡ 🟡 ➡ 🔴. Además siempre hay una sola luz encendida (no es posible que haya varias luces\n",
    "encendidas al mismo tiempo).\n",
    "A modo de ejemplo, asuma que la luz roja permanece encendida durante 45 segundos, la luz amarilla durante 2 segundos, y la luz verde durante 66 segundos,\n",
    "y que inicialmente el semáforo se prende en rojo. \n",
    "En este ejercicio se propone escribir un conjunto de tipos y funciones que me permitan describir el estado del semáforo a un tiempo t dado en segundos\n",
    "(esto es, no interesa por el momento modelar la evolución real del sistema en el tiempo.)\n",
    "\n",
    "- Como primer paso, defina un tipo de dato adecuado para describir el semáforo, y analice la conveniencia de definir un tipo de dato para el tiempo.\n",
    "- Analice cuáles son las transiciones de los estados de las luces, y proponga la o las funciones que permitan cambiar de estado, y las modificaciones \n",
    "  necesarias (o no) al tipo de dato que describe el semáforo.\n",
    "- Escriba un tipo de dato que pueda resumir el estado del semáforo y las trancisiones. \n",
    "- En algunos casos, típicamente por la noche en lugares de poco tránsito, el semáforo se enciende la luz amarilla en forma intermitente. Agrege este nuevo \n",
    "  caso al modelo del problema, y modifique las funciones adecuadamente.\n"
   ]
  },
  {
   "cell_type": "code",
   "execution_count": 32,
   "metadata": {
    "dotnet_interactive": {
     "language": "fsharp"
    },
    "polyglot_notebook": {
     "kernelName": "fsharp"
    },
    "vscode": {
     "languageId": "polyglot-notebook"
    }
   },
   "outputs": [
    {
     "name": "stdout",
     "output_type": "stream",
     "text": [
      "Black"
     ]
    }
   ],
   "source": [
    "\n",
    "type Lights = \n",
    "    | Red\n",
    "    | Yellow\n",
    "    | Green\n",
    "    | Black\n",
    "\n",
    "type Transiciones = \n",
    "    {\n",
    "        Red_to_Yellow: int\n",
    "        Yellow_to_Green: int\n",
    "        Green_to_Yellow: int\n",
    "        Yellow_to_Red: int\n",
    "        Yellow_to_Black: int\n",
    "        Black_to_Yellow: int\n",
    "    }\n",
    "\n",
    "\n",
    "\n",
    "let checkLight (time:int) (transiciones:Transiciones) = \n",
    "    match (time % transiciones.Black_to_Yellow) with \n",
    "    | t when t < transiciones.Red_to_Yellow -> Red\n",
    "    | t when t < transiciones.Yellow_to_Green -> Yellow\n",
    "    | t when t < transiciones.Green_to_Yellow -> Green\n",
    "    | t when t < transiciones.Yellow_to_Red -> Yellow\n",
    "    | t when t < transiciones.Yellow_to_Black -> Yellow\n",
    "    | t when t < transiciones.Black_to_Yellow -> Black\n",
    "    |_ -> Yellow\n",
    "\n",
    "type Semaforo =\n",
    "    {\n",
    "        time: int\n",
    "        Transiciones: Transiciones\n",
    "        Lights: Lights \n",
    "    }\n",
    "\n",
    "\n",
    "// TEST: DÍA\n",
    "let t = 150\n",
    "\n",
    "let Transiciones_test:Transiciones = \n",
    "    {\n",
    "        Red_to_Yellow = 45\n",
    "        Yellow_to_Green = 47\n",
    "        Green_to_Yellow = 113\n",
    "        Yellow_to_Red = 115\n",
    "        Yellow_to_Black = 115\n",
    "        Black_to_Yellow = 115\n",
    "    }\n",
    "\n",
    "let Semaforo_test:Semaforo = \n",
    "    {\n",
    "        time = t\n",
    "        Transiciones = Transiciones_test\n",
    "        Lights = (checkLight t Transiciones_test)\n",
    "    }\n",
    "\n",
    "printf \"%A\" Semaforo_test.Lights\n",
    " \n",
    "\n",
    "// TEST: NOCHE\n",
    "let t_noche = 3\n",
    "\n",
    "let Transiciones_test_noche:Transiciones = \n",
    "    {\n",
    "        Red_to_Yellow = 0\n",
    "        Yellow_to_Green = 0\n",
    "        Green_to_Yellow = 0\n",
    "        Yellow_to_Red = 0\n",
    "        Yellow_to_Black = 2\n",
    "        Black_to_Yellow = 4\n",
    "    }\n",
    "\n",
    "\n",
    "let Semaforo_test_noche:Semaforo = \n",
    "    {\n",
    "        time = t_noche\n",
    "        Transiciones = Transiciones_test\n",
    "        Lights = (checkLight t_noche Transiciones_test_noche)\n",
    "    }\n",
    "\n",
    "printf \"%A\" Semaforo_test_noche.Lights"
   ]
  },
  {
   "cell_type": "code",
   "execution_count": null,
   "metadata": {
    "dotnet_interactive": {
     "language": "fsharp"
    },
    "polyglot_notebook": {
     "kernelName": "fsharp"
    },
    "vscode": {
     "languageId": "polyglot-notebook"
    }
   },
   "outputs": [],
   "source": [
    "// let checkLight time = \n",
    "//     match (time % 115) with \n",
    "//     | t when t < 45 -> Red\n",
    "//     | t when (t>45 && t <= 46) || (t>113 && t <= 115) -> Yellow\n",
    "//     |_ -> Green"
   ]
  },
  {
   "cell_type": "code",
   "execution_count": 10,
   "metadata": {
    "dotnet_interactive": {
     "language": "fsharp"
    },
    "polyglot_notebook": {
     "kernelName": "fsharp"
    },
    "vscode": {
     "languageId": "polyglot-notebook"
    }
   },
   "outputs": [
    {
     "name": "stdout",
     "output_type": "stream",
     "text": [
      "Negro \"Rama\""
     ]
    }
   ],
   "source": [
    "//Duda con type\n",
    "type Chocolate =\n",
    "    | Blanco of string\n",
    "    | Negro of string\n",
    "\n",
    "let Rapanui = Chocolate.Negro(\"Rama\")\n",
    "\n",
    "printf \"%A\" Rapanui"
   ]
  },
  {
   "attachments": {},
   "cell_type": "markdown",
   "metadata": {},
   "source": [
    "\n",
    "### Números naturales\n",
    "\n",
    "Continuando con el ejemplo que vimos en clase, donde se propone un tipo de dato para describir a los números naturales al estilo de Peano como: \n",
    "\n",
    "```fsharp\n",
    "type Peano = \n",
    "    | Zero \n",
    "    | Succ of Peano\n",
    "```\n",
    "\n",
    "Escriba funciones que permitan sumar y multiplicar dos números naturales definidos como `Peano`. \n"
   ]
  },
  {
   "attachments": {},
   "cell_type": "markdown",
   "metadata": {},
   "source": [
    "Consideraciones:\n",
    "* Defino la suma de un número n-sucesor y m-sucesor como (n+m)-sucesor\n",
    "* Defino multiplicación de un nro n_sucesor y m-sucesor como (n*m)-sucesor"
   ]
  },
  {
   "cell_type": "code",
   "execution_count": 34,
   "metadata": {
    "dotnet_interactive": {
     "language": "fsharp"
    },
    "polyglot_notebook": {
     "kernelName": "fsharp"
    },
    "vscode": {
     "languageId": "polyglot-notebook"
    }
   },
   "outputs": [
    {
     "name": "stdout",
     "output_type": "stream",
     "text": [
      "Suma: Succ (Succ (Succ (Succ (Succ Zero))))\n",
      "Producto: Succ (Succ (Succ (Succ (Succ (Succ Zero)))))"
     ]
    }
   ],
   "source": [
    "type Peano = \n",
    "    | Zero \n",
    "    | Succ of Peano\n",
    "    \n",
    "//Me la hizo ChatGPT a la siguiente función\n",
    "let rec suma a b = \n",
    "    match a with\n",
    "    | Zero -> b\n",
    "    | Succ n -> Succ (suma n b)\n",
    "\n",
    "let rec multiplicacion a b =\n",
    "    match a with\n",
    "    | Zero -> Zero\n",
    "    | Succ n -> suma b (multiplicacion n b)\n",
    "\n",
    "let a = Zero\n",
    "let b = Succ(Succ(Zero))\n",
    "\n",
    "printf \"Suma: %A\" (suma a b)\n",
    "\n",
    "printf \"\\nProducto: %A\" (multiplicacion a b)"
   ]
  },
  {
   "attachments": {},
   "cell_type": "markdown",
   "metadata": {},
   "source": [
    "\n",
    "### Siguiendo con `MyList`\n",
    "\n",
    "Usando el tipo de dato que vimos en clase\n",
    "\n",
    "```fsharp \n",
    "type MyList =\n",
    "    | Empty\n",
    "    | Cons of int * MyList \n",
    "```\n",
    "\n",
    "- Escriba una función `length` que obtenga la longitud de la lista\n",
    "\n",
    "- Escriba una función `rev` que reordene la lista desde el último elemento hasta el primero\n",
    "  \n",
    "```fsharp\n",
    "let exampleList = Cons (1, Cons (2, Cons (3, Empty)))\n",
    "// el resultado de rev exampleList debe ser\n",
    "// Cons (3, Cons (2, Cons (1, Empty)))\n",
    "```  "
   ]
  },
  {
   "cell_type": "code",
   "execution_count": 46,
   "metadata": {
    "dotnet_interactive": {
     "language": "fsharp"
    },
    "polyglot_notebook": {
     "kernelName": "fsharp"
    },
    "vscode": {
     "languageId": "polyglot-notebook"
    }
   },
   "outputs": [
    {
     "name": "stdout",
     "output_type": "stream",
     "text": [
      "Concatenacion: Cons (1, Cons (2, Cons (3, Cons (1, Cons (2, Cons (3, Empty))))))\n",
      "Longitud = 3\n",
      "Rev: Cons (3, Cons (2, Cons (1, Empty)))"
     ]
    }
   ],
   "source": [
    "type MyList =\n",
    "    | Empty\n",
    "    | Cons of int * MyList \n",
    "\n",
    "let rec length (lista:MyList) =\n",
    "    match lista with\n",
    "    | Empty -> 0\n",
    "    | Cons (_,sublista) -> 1 + (length sublista)\n",
    "\n",
    "let rec concat (lista1:MyList) (lista2:MyList) =\n",
    "    match lista1 with\n",
    "    | Empty -> lista2\n",
    "    | Cons (n,sublista) -> Cons (n, (concat sublista lista2))\n",
    "\n",
    "let lista1 = Cons (1, Cons (2, Cons (3, Empty)))\n",
    "let lista2 = Cons (1, Cons (2, Cons (3, Empty)))\n",
    "\n",
    "printf \"Concatenacion: %A\" (concat lista1 lista2)\n",
    "\n",
    "\n",
    "let rec rev (lista:MyList) = \n",
    "    match lista with\n",
    "    | Empty -> lista\n",
    "    | Cons (n, sublista) -> concat (rev sublista) (Cons (n, Empty))\n",
    "\n",
    "\n",
    "\n",
    "let exampleList = Cons (1, Cons (2, Cons (3, Empty)))\n",
    "\n",
    "printf \"\\nLongitud = %A\" (length exampleList)\n",
    "\n",
    "printf \"\\nRev: %A\" (rev exampleList)"
   ]
  },
  {
   "cell_type": "code",
   "execution_count": null,
   "metadata": {
    "dotnet_interactive": {
     "language": "csharp"
    },
    "polyglot_notebook": {
     "kernelName": "csharp"
    },
    "vscode": {
     "languageId": "polyglot-notebook"
    }
   },
   "outputs": [],
   "source": []
  }
 ],
 "metadata": {
  "language_info": {
   "name": "python"
  },
  "orig_nbformat": 4
 },
 "nbformat": 4,
 "nbformat_minor": 2
}

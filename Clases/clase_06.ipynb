{
 "cells": [
  {
   "cell_type": "code",
   "execution_count": null,
   "metadata": {},
   "outputs": [],
   "source": []
  },
  {
   "attachments": {},
   "cell_type": "markdown",
   "metadata": {},
   "source": [
    "\n",
    "### Separando en sílabas\n",
    "\n",
    "Una de las bondades del idioma español, o castellano como lo llamamos por estas latitudes, es\n",
    "que existen reglas claras para [realizar la separación de una palabra en sílabas](https://unibetas.com/como-separar-silabas). Las sílabas constituyen la forma en la cual las letras se agrupan al hablar.\n",
    "En el español, la regla fundamental es que _en toda sílaba debe haber al menos una vocal_. A partir\n",
    "de ésta, existen un conjunto de reglas que se utilizan para determinar la separación en sílabas. \n",
    "Algunas de ellas son:\n",
    "\n",
    "- Consonantes al inicio de una palabra: Todas las consonantes que se hallen al principio de una palabra deben ir sin excepción alguna con la vocal que les sigue.\n",
    "  \n",
    "- Una consonante ubicada entre dos vocales: Si en la palabra hay una consonante entre dos vocales, debe ir acompañando a la que le sigue:\n",
    "\n",
    "- Dos consonantes ubicadas entre dos vocales: En este caso la separación de sílabas dependerá del grupo específico de consonantes. Si son “pr”, “br”, “dr”, “cr”, “fr”, “gr”, “kr”, “tr”, “fl”, “pl”, “gl”, “kl”, “cl” o “bl”, se mantienen juntas en todo momento y van unidas a la vocal que les sigue, como en Alegría: a – le – grí – a.\n",
    "\n",
    "Se propone pensar (no programar, salvo que Ud. así lo desee) cómo abordar la programación de un\n",
    "código que dada una palabra del idioma español, la separe en sílabas. \n",
    "\n",
    "\n",
    "\n",
    "En este caso uno no construye un código que va buscando la solución, sino que se proponen todas las soluciones posibles y luego se busca la correcta. Construir la solución a partir del caso base (la palabra completa) es más difísicl que buscar la solución correcta a partir del conjunto de todas las posibles. Entonces, uno logra resolver el problema a partir del espacio de soluciones posibles, verificando con reglas de validación cuál o cuáles son correctas.\n",
    "\n",
    "Lo mismo se podría hacer con un sudoku por ejemplo\n",
    "\n",
    "No es necesario encarar todo el espacio de búsqueda de soluciones posibles, sino que se puede restringir tal espacio usando un conjunto de reglas"
   ]
  },
  {
   "cell_type": "markdown",
   "metadata": {},
   "source": []
  }
 ],
 "metadata": {
  "language_info": {
   "name": "python"
  },
  "orig_nbformat": 4
 },
 "nbformat": 4,
 "nbformat_minor": 2
}

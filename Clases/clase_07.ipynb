{
 "cells": [
  {
   "cell_type": "code",
   "execution_count": null,
   "metadata": {
    "dotnet_interactive": {
     "language": "csharp"
    },
    "polyglot_notebook": {
     "kernelName": "csharp"
    },
    "vscode": {
     "languageId": "polyglot-notebook"
    }
   },
   "outputs": [],
   "source": [
    "products.GetType()"
   ]
  },
  {
   "attachments": {},
   "cell_type": "markdown",
   "metadata": {},
   "source": [
    "Método que te permite saber el tipo de dato\n",
    "El error en el código es porque el último dato no tiene la estructura (eat, drink). Le falta el último drink\n",
    "La ventaja del tipo de dato option es la cantidad de funciones que tiene similares al tipo result"
   ]
  },
  {
   "cell_type": "code",
   "execution_count": null,
   "metadata": {
    "dotnet_interactive": {
     "language": "csharp"
    },
    "polyglot_notebook": {
     "kernelName": "csharp"
    },
    "vscode": {
     "languageId": "polyglot-notebook"
    }
   },
   "outputs": [],
   "source": [
    "Seq.choose"
   ]
  },
  {
   "attachments": {},
   "cell_type": "markdown",
   "metadata": {},
   "source": [
    "Aplica una función a cada elemento de la secuencia y solo devuelve los del tipo some\n",
    "id es la identidad"
   ]
  },
  {
   "attachments": {},
   "cell_type": "markdown",
   "metadata": {},
   "source": [
    "¿Qué ventaja tiene usar el dato option?\n",
    "Este tipo de datos nos permite no trabajar con \"nros mágicos\". Por ejemplo, si estoy midiendo algo y de repende deja de medir, no tengo que poner un \"0\" o un \"-1\" en la cadena"
   ]
  },
  {
   "attachments": {},
   "cell_type": "markdown",
   "metadata": {},
   "source": [
    "\n",
    "### Nutrientes en la alimentación\n",
    "\n",
    "> Haga el ejercicio de producir el código **sin mirar el archivo de datos!!** \n",
    "\n",
    "El archivo [food.csv]() extraído de [acá](https://data.nal.usda.gov/) contiene datos de nutrientes de una gran cantidad de productos de alimentación. Los datos corresponden en cada caso a 100 g de cada \n",
    "producto alimenticio. Cada fila del archivo corresponde a un producto distinto.\n",
    "\n",
    "\n",
    "- ¿Cuántas categorías de nutrientes hay?\n",
    "\n",
    "A partir de la respuesta anterior, diseñe el código de forma tal que se pueda acceder a los datos de nutrientes _sin necesidad de usar índices_. \n",
    ">> Ayuda: los diccionarios `Map...` pueden ser sus aliados.\n",
    "\n",
    "\n",
    "- Valide la estructura de la información: para ello compruebe que cada una de las filas de datos tiene la información de todos los nutrientes\n",
    "- Encuentre los diez alimentos con más contenido de colesterol, y los 10 con menos contenido de colesterol.\n",
    "- Encuentre los alimentos que contienen pan (_bread_) y muestre su contenido de carbohidratos en una tabla\n",
    "- Entre los productos con leche, encuentre aquellos que tienen el menor contenido de grasas. \n",
    "\n",
    "### La máquina expendedora, toma 32768...\n",
    "\n",
    "Para completar el modelo de la máquina expendedora, necesitamos definir los inputs y outputs. Asimismo, el fabricante de la máquina expendedora nos informa que a lo sumo habrá 7 estantes, y a lo sumo 10 productos por estante. \n",
    "La máquina acepta la máquina recibe monedas de 1 doblón (equivalente a 100 centavos), 50, 25 y 10\n",
    "centavos de doblón; o en tarjeta de crédito. El vuelto (de existir) también se genera en monedas.\n",
    "\n",
    "#### Inputs\n",
    "\n",
    "Usando el modelo que diseño en [el ejercicio de monedas](https://ibprogramacionavanzada.github.io/fsharp/14_Exercises/#monedas). \n",
    "\n",
    "- Extienda los tipos de datos para agregar la posibilidad de introducir monedas de 1 doblón. \n",
    "\n",
    "Además, el usuario debe seleccionar el producto, con una letra (correspondiente al estante), y un\n",
    "número (correspondiente al producto en el estante). \n",
    "\n",
    "- Cree los tipos de datos para modelar este input.\n",
    "- Cree una función que valide dicho input, de acuerdo a la configuración de número de estantes y número de productos por estante.\n",
    "- Cree una función que de aviso al cliente de cuánto dinero falta introducir, en caso en que\n",
    "  el dinero introducido no ha sido suficiente.\n",
    "  \n",
    "#### Outputs  \n",
    "\n",
    "Cree las funciones que entregan el producto al usuario (descontándolo adecuadamente del stock correspondiente), y el vuelto, si lo hubiere. \n",
    "\n",
    "#### Extra: un caso de borde\n",
    "\n",
    "Un caso raro, pero que podría ocurrir, es el siguiente: el usuario introduce las monedas, suficientes\n",
    "como para comprar el producto que quiere, pero la máquina no tiene monedas suficientes para dar \n",
    "el vuelto.\n",
    "\n"
   ]
  },
  {
   "cell_type": "code",
   "execution_count": null,
   "metadata": {
    "dotnet_interactive": {
     "language": "fsharp"
    },
    "polyglot_notebook": {
     "kernelName": "fsharp"
    },
    "vscode": {
     "languageId": "polyglot-notebook"
    }
   },
   "outputs": [],
   "source": [
    "type Monedas = \n",
    "    {\n",
    "        M100:int //1 doblon = 100 centavos\n",
    "        M10: int\n",
    "        M25: int\n",
    "        M50: int\n",
    "    }\n",
    "\n",
    "type Categoria =\n",
    "    | Chocolate\n",
    "    | PapasFritas\n",
    "    | Bebida\n",
    "    | Galletitas\n",
    "\n",
    "type Producto = \n",
    "    {\n",
    "        nombre: string\n",
    "        categoria: Categoria\n",
    "        precio: float\n",
    "    }\n",
    "\n",
    "type Lugar = \n",
    "    {\n",
    "        estante: string\n",
    "        posicion: int\n",
    "    }\n",
    "\n",
    "\n",
    "type Producto_en_Maquina = \n",
    "    {\n",
    "        producto: Producto\n",
    "        lugar: Lugar\n",
    "        cantidad: int\n",
    "    }\n",
    "\n",
    "\n",
    "let verifico_lugar lugar:Lugar = \n",
    "    if lugar.posicion >= 10 then //Las posiciones se cuentan desde 0\n",
    "        false\n",
    "    else\n",
    "\n",
    "\n",
    "let input (dinero:Monedas) (estante: string) (posicion: int) =\n",
    "\n",
    "\n",
    "\n",
    "\n",
    "let Cantidad (dinero: Monedas) =\n",
    "    0.10*(float dinero.M10) + 0.25*(float dinero.M25) + 0.50*(float dinero.M50)\n",
    "\n",
    "printf \"%A\" (Cantidad test)"
   ]
  }
 ],
 "metadata": {
  "language_info": {
   "name": "python"
  },
  "orig_nbformat": 4
 },
 "nbformat": 4,
 "nbformat_minor": 2
}

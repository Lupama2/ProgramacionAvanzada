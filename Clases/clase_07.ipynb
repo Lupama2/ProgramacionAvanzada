{
 "cells": [
  {
   "cell_type": "code",
   "execution_count": 1,
   "metadata": {
    "dotnet_interactive": {
     "language": "fsharp"
    },
    "polyglot_notebook": {
     "kernelName": "fsharp"
    },
    "vscode": {
     "languageId": "polyglot-notebook"
    }
   },
   "outputs": [
    {
     "name": "stderr",
     "output_type": "stream",
     "text": [
      "Detenido debido a un error.\n"
     ]
    },
    {
     "ename": "Error",
     "evalue": "input.fsx (1,1)-(1,9) typecheck error El valor, espacio de nombres, tipo o módulo \"products\" no está definido.",
     "output_type": "error",
     "traceback": [
      "input.fsx (1,1)-(1,9) typecheck error El valor, espacio de nombres, tipo o módulo \"products\" no está definido."
     ]
    }
   ],
   "source": [
    "products.GetType()"
   ]
  },
  {
   "attachments": {},
   "cell_type": "markdown",
   "metadata": {},
   "source": [
    "Método que te permite saber el tipo de dato\n",
    "El error en el código es porque el último dato no tiene la estructura (eat, drink). Le falta el último drink\n",
    "La ventaja del tipo de dato option es la cantidad de funciones que tiene similares al tipo result"
   ]
  },
  {
   "cell_type": "code",
   "execution_count": 2,
   "metadata": {
    "dotnet_interactive": {
     "language": "fsharp"
    },
    "polyglot_notebook": {
     "kernelName": "fsharp"
    },
    "vscode": {
     "languageId": "polyglot-notebook"
    }
   },
   "outputs": [],
   "source": [
    "Seq.choose"
   ]
  },
  {
   "attachments": {},
   "cell_type": "markdown",
   "metadata": {},
   "source": [
    "Aplica una función a cada elemento de la secuencia y solo devuelve los del tipo some\n",
    "id es la identidad"
   ]
  },
  {
   "attachments": {},
   "cell_type": "markdown",
   "metadata": {},
   "source": [
    "¿Qué ventaja tiene usar el dato option?\n",
    "Este tipo de datos nos permite no trabajar con \"nros mágicos\". Por ejemplo, si estoy midiendo algo y de repende deja de medir, no tengo que poner un \"0\" o un \"-1\" en la cadena"
   ]
  },
  {
   "attachments": {},
   "cell_type": "markdown",
   "metadata": {},
   "source": [
    "\n",
    "\n",
    "### Nutrientes en la alimentación\n",
    "\n",
    "> Haga el ejercicio de producir el código **sin mirar el archivo de datos!!** \n",
    "\n",
    "El archivo [food.csv]() extraído de [acá](https://data.nal.usda.gov/) contiene datos de nutrientes de una gran cantidad de productos de alimentación. Los datos corresponden en cada caso a 100 g de cada \n",
    "producto alimenticio. Cada fila del archivo corresponde a un producto distinto.\n",
    "\n",
    "\n",
    "- ¿Cuántas categorías de nutrientes hay?\n",
    "\n",
    "A partir de la respuesta anterior, diseñe el código de forma tal que se pueda acceder a los datos de nutrientes _sin necesidad de usar índices_. \n",
    ">> Ayuda: los diccionarios `Map...` pueden ser sus aliados.\n",
    "\n",
    "\n",
    "- Valide la estructura de la información: para ello compruebe que cada una de las filas de datos tiene la información de todos los nutrientes\n",
    "- Encuentre los diez alimentos con más contenido de colesterol, y los 10 con menos contenido de colesterol.\n",
    "- Encuentre los alimentos que contienen pan (_bread_) y muestre su contenido de carbohidratos en una tabla\n",
    "- Entre los productos con leche, encuentre aquellos que tienen el menor contenido de grasas. \n",
    "\n",
    "### La máquina expendedora, toma 32768...\n",
    "\n",
    "Para completar el modelo de la máquina expendedora, necesitamos definir los inputs y outputs. Asimismo, el fabricante de la máquina expendedora nos informa que a lo sumo habrá 7 estantes, y a lo sumo 10 productos por estante. \n",
    "La máquina acepta la máquina recibe monedas de 1 doblón (equivalente a 100 centavos), 50, 25 y 10\n",
    "centavos de doblón; o en tarjeta de crédito. El vuelto (de existir) también se genera en monedas.\n",
    "\n",
    "#### Inputs\n",
    "\n",
    "Usando el modelo que diseño en [el ejercicio de monedas](https://ibprogramacionavanzada.github.io/fsharp/14_Exercises/#monedas). \n",
    "\n",
    "- Extienda los tipos de datos para agregar la posibilidad de introducir monedas de 1 doblón. \n",
    "\n",
    "Además, el usuario debe seleccionar el producto, con una letra (correspondiente al estante), y un\n",
    "número (correspondiente al producto en el estante). \n",
    "\n",
    "- Cree los tipos de datos para modelar este input.\n",
    "- Cree una función que valide dicho input, de acuerdo a la configuración de número de estantes y número de productos por estante.\n",
    "- Cree una función que de aviso al cliente de cuánto dinero falta introducir, en caso en que\n",
    "  el dinero introducido no ha sido suficiente.\n",
    "  \n",
    "#### Outputs  \n",
    "\n",
    "Cree las funciones que entregan el producto al usuario (descontándolo adecuadamente del stock correspondiente), y el vuelto, si lo hubiere. \n",
    "\n",
    "#### Extra: un caso de borde\n",
    "\n",
    "Un caso raro, pero que podría ocurrir, es el siguiente: el usuario introduce las monedas, suficientes\n",
    "como para comprar el producto que quiere, pero la máquina no tiene monedas suficientes para dar \n",
    "el vuelto.\n",
    "\n"
   ]
  },
  {
   "cell_type": "code",
   "execution_count": 10,
   "metadata": {
    "dotnet_interactive": {
     "language": "fsharp"
    },
    "polyglot_notebook": {
     "kernelName": "fsharp"
    },
    "vscode": {
     "languageId": "polyglot-notebook"
    }
   },
   "outputs": [
    {
     "name": "stdout",
     "output_type": "stream",
     "text": [
      "-1\n"
     ]
    }
   ],
   "source": [
    "// let test = \n",
    "//     let a = [1 ; 2 ; 3]\n",
    "//     try\n",
    "//         List.find (fun b -> b=4) a\n",
    "//     with\n",
    "//         | :? System.Collections.Generic.KeyNotFoundException as ex  -> \n",
    "//             printfn \"No hay ningún producto en tal lugar\"\n",
    "//             -1 \n",
    "\n",
    "// let c = test\n",
    "// printfn \"%A\""
   ]
  },
  {
   "cell_type": "code",
   "execution_count": 46,
   "metadata": {
    "dotnet_interactive": {
     "language": "fsharp"
    },
    "polyglot_notebook": {
     "kernelName": "fsharp"
    },
    "vscode": {
     "languageId": "polyglot-notebook"
    }
   },
   "outputs": [],
   "source": [
    "type monedas = \n",
    "    {\n",
    "        M10: int\n",
    "        M25: int\n",
    "        M50: int\n",
    "        M100:int //1 doblon = 100 centavos\n",
    "    }\n",
    "\n",
    "let dinero (monedas:monedas) =\n",
    "    (float monedas.M10)*0.1 + (float monedas.M25)*0.25 + (float monedas.M50)*0.5 + (float monedas.M100)*1.\n",
    "\n",
    "\n",
    "type categoria =\n",
    "    | Chocolate\n",
    "    | PapasFritas\n",
    "    | Bebida\n",
    "    | Galletitas\n",
    "    | Vacio\n",
    "\n",
    "type producto = \n",
    "    {\n",
    "        nombre: string\n",
    "        categoria: categoria\n",
    "        precio: float\n",
    "    }\n",
    "\n",
    "type lugar = \n",
    "    {\n",
    "        producto: producto\n",
    "        cantidad: int\n",
    "        estante: string\n",
    "        posicion: int\n",
    "    }\n",
    "\n",
    "let producto_fantasma =\n",
    "    {\n",
    "        nombre = \"fantasma\"\n",
    "        categoria = Vacio\n",
    "        precio = 0.\n",
    "    }\n",
    "\n",
    "let lugar_fantasma =\n",
    "    {\n",
    "        producto = producto_fantasma\n",
    "        cantidad = 0\n",
    "        estante = \"h\"\n",
    "        posicion = -1\n",
    "    }\n",
    "\n",
    "type maquina = \n",
    "    {\n",
    "        lugares: lugar list\n",
    "    }\n",
    "\n",
    "let find_lugar (maquina:maquina) (estante:string) (posicion:int)= \n",
    "    try\n",
    "        List.find(fun lugar -> lugar.estante = estante && lugar.posicion = posicion) maquina.lugares\n",
    "    with\n",
    "        | :? System.Collections.Generic.KeyNotFoundException as ex  -> \n",
    "            // printfn \"No hay ningún producto en tal lugar\"\n",
    "            lugar_fantasma\n",
    "\n",
    "\n",
    "// exception ExceptionForLugar of string \n",
    "\n",
    "// let validar_lugar (maquina:maquina) (estante:string) (posicion:int) =\n",
    "    // try\n",
    "    //     find_lugar (maquina:maquina) (estante:string) (posicion:int)\n",
    "    // with\n",
    "    // | :? System.InvalidOperationException  -> \n",
    "    //     printfn \"Lugar no encontrado\" \n",
    "    \n",
    "// let verifico_precio (dinero_usuario) (precio_producto) =\n",
    "//     if dinero_usuario > precio_producto then\n",
    "//         dinero_usuario\n",
    "//     else\n",
    "//         printfn \"Saldo insuficiente\"\n",
    "//         -1\n",
    "\n",
    "\n",
    "let verifico_lugar (lugar:lugar) =\n",
    "    if lugar = lugar_fantasma then\n",
    "        printfn \"No hay ningún producto en tal posición\"\n",
    "        false\n",
    "    else\n",
    "        true\n",
    "\n",
    "let verifico_saldo (precio:float) (dinero_usuario: float) =\n",
    "    let diferencia = precio - dinero_usuario\n",
    "    if diferencia <= 0 then\n",
    "        true\n",
    "    else\n",
    "        printfn \"Saldo insuficiente, falta introducir $ %f\"  diferencia\n",
    "        false\n",
    "\n",
    "let comprar (maquina:maquina) (estante:string) (posicion: int) (monedas:monedas) = \n",
    "    //Verifico si en esa posicion hay al menos un producto\n",
    "    let lugar = find_lugar maquina estante posicion\n",
    "    if (verifico_lugar lugar) = true && (verifico_saldo lugar.producto.precio (dinero monedas)) = true then\n",
    "\n",
    "        //Cambio el nro de productos\n",
    "        let lugar_new:lugar = \n",
    "            {\n",
    "                producto = lugar.producto\n",
    "                cantidad = lugar.cantidad - 1\n",
    "                estante = lugar.estante\n",
    "                posicion = lugar.posicion\n",
    "            }\n",
    "        printfn \"Se compró el producto %A\" lugar_new.producto.nombre\n",
    "        let vuelto = (dinero monedas) - lugar.producto.precio\n",
    "        printfn \"Tiene un vuelto de %A\" vuelto\n",
    "        //Devuelvo la maquina\n",
    "        {\n",
    "            lugares = (List.filter (fun x -> x <> lugar) maquina.lugares) @ [lugar_new]\n",
    "        }\n",
    "    else\n",
    "        // printf \"No se compró el producto %A\" lugar.producto.nombre\n",
    "        maquina\n",
    "        \n",
    "\n",
    "let reponer (maquina:maquina) (estante:string) (posicion:int) =\n",
    "    //Llevo a 15 el producto de tal posición.\n",
    "    let lugar = find_lugar maquina estante posicion\n",
    "    if lugar.cantidad < 15 then\n",
    "        let lugar_new:lugar = \n",
    "            {\n",
    "                producto = lugar.producto\n",
    "                cantidad = 15\n",
    "                estante = lugar.estante\n",
    "                posicion = lugar.posicion\n",
    "            }\n",
    "        printf \"Se compró el producto %A\" lugar_new.producto.nombre\n",
    "        //Devuelvo la maquina\n",
    "        {\n",
    "            lugares = (List.filter (fun x -> x <> lugar) maquina.lugares) @ [lugar_new]\n",
    "        }\n",
    "\n",
    "    else\n",
    "        maquina\n"
   ]
  },
  {
   "cell_type": "code",
   "execution_count": 47,
   "metadata": {
    "dotnet_interactive": {
     "language": "fsharp"
    },
    "polyglot_notebook": {
     "kernelName": "fsharp"
    },
    "vscode": {
     "languageId": "polyglot-notebook"
    }
   },
   "outputs": [
    {
     "name": "stdout",
     "output_type": "stream",
     "text": [
      "Se compró el producto \"Chocolate Rapanui\"\n",
      "Tiene un vuelto de 0.25\n",
      "{ lugares =\n",
      "   [{ producto = { nombre = \"Lays\"\n",
      "                   categoria = PapasFritas\n",
      "                   precio = 0.5 }\n",
      "      cantidad = 15\n",
      "      estante = \"b\"\n",
      "      posicion = 0 }; { producto = { nombre = \"Coca Cola 2L\"\n",
      "                                     categoria = Bebida\n",
      "                                     precio = 1.0 }\n",
      "                        cantidad = 1\n",
      "                        estante = \"c\"\n",
      "                        posicion = 0 }; { producto = { nombre = \"Rumba\"\n",
      "                                                       categoria = Galletitas\n",
      "                                                       precio = 0.25 }\n",
      "                                          cantidad = 8\n",
      "                                          estante = \"d\"\n",
      "                                          posicion = 0 };\n",
      "    { producto = { nombre = \"Chocolate Rapanui\"\n",
      "                   categoria = Chocolate\n",
      "                   precio = 1.0 }\n",
      "      cantidad = 9\n",
      "      estante = \"a\"\n",
      "      posicion = 0 }] }"
     ]
    }
   ],
   "source": [
    "//Defino un conjunto de productos y sus lugares correspondientes\n",
    "\n",
    "let Rapanui:producto = {nombre = \"Chocolate Rapanui\"; categoria = Chocolate; precio = 1.}\n",
    "let Lays:producto = {nombre = \"Lays\"; categoria = PapasFritas; precio = 0.5}\n",
    "let CocaCola:producto = {nombre = \"Coca Cola 2L\"; categoria = Bebida; precio = 1.}\n",
    "let Rumba:producto = {nombre = \"Rumba\"; categoria = Galletitas; precio = 0.25}\n",
    "\n",
    "//Lugares genéricos. Podría inicializar varios lugares del mismo producto con distinta cantidad pero no lo hago por simplicidad\n",
    "let Lugar_Rapanui:lugar = {producto = Rapanui; cantidad = 10; estante = \"a\"; posicion = 0}\n",
    "let Lugar_Lays:lugar = {producto = Lays; cantidad = 15; estante = \"b\"; posicion = 0}\n",
    "let Lugar_CocaCola:lugar = {producto = CocaCola; cantidad = 1; estante = \"c\"; posicion = 0}\n",
    "let Lugar_Rumba:lugar = {producto = Rumba; cantidad = 8; estante = \"d\"; posicion = 0}\n",
    "\n",
    "//Listas de lugares\n",
    "let maquina:maquina = {lugares = [Lugar_Rapanui; Lugar_Lays; Lugar_CocaCola; Lugar_Rumba]}\n",
    "\n",
    "let dinero_usuario:monedas = \n",
    "    {\n",
    "        M10 = 0\n",
    "        M25 = 1\n",
    "        M50 = 0\n",
    "        M100 = 1\n",
    "    }\n",
    "\n",
    "printf \"%A\" (comprar maquina \"a\" 0 dinero_usuario)"
   ]
  },
  {
   "cell_type": "code",
   "execution_count": 4,
   "metadata": {
    "dotnet_interactive": {
     "language": "fsharp"
    },
    "polyglot_notebook": {
     "kernelName": "fsharp"
    },
    "vscode": {
     "languageId": "polyglot-notebook"
    }
   },
   "outputs": [
    {
     "name": "stderr",
     "output_type": "stream",
     "text": [
      "Detenido debido a un error.\n"
     ]
    },
    {
     "ename": "Error",
     "evalue": "input.fsx (43,1)-(43,4) parse warning Posible sangría incorrecta: este token está fuera del contexto iniciado en la posición (38:5). Pruebe aplicando más sangría a este token o usando convenciones de formato estándar.\ninput.fsx (43,1)-(43,4) parse warning Posible sangría incorrecta: este token está fuera del contexto iniciado en la posición (38:5). Pruebe aplicando más sangría a este token o usando convenciones de formato estándar.\ninput.fsx (48,1)-(48,4) parse warning Posible sangría incorrecta: este token está fuera del contexto iniciado en la posición (43:1). Pruebe aplicando más sangría a este token o usando convenciones de formato estándar.\ninput.fsx (48,1)-(48,4) parse warning Posible sangría incorrecta: este token está fuera del contexto iniciado en la posición (43:1). Pruebe aplicando más sangría a este token o usando convenciones de formato estándar.\ninput.fsx (51,1)-(51,7) parse warning Posible sangría incorrecta: este token está fuera del contexto iniciado en la posición (43:1). Pruebe aplicando más sangría a este token o usando convenciones de formato estándar.\ninput.fsx (51,1)-(51,7) parse warning Posible sangría incorrecta: este token está fuera del contexto iniciado en la posición (43:1). Pruebe aplicando más sangría a este token o usando convenciones de formato estándar.\ninput.fsx (43,1)-(43,4) parse error El bloque que sigue a este objeto 'let' está sin finalizar. Cada bloque de código es una expresión y debe tener un resultado. 'let' no puede ser el elemento de código final en un bloque. Considere la posibilidad de asignar a este bloque un resultado explícito.",
     "output_type": "error",
     "traceback": [
      "input.fsx (43,1)-(43,4) parse warning Posible sangría incorrecta: este token está fuera del contexto iniciado en la posición (38:5). Pruebe aplicando más sangría a este token o usando convenciones de formato estándar.\n",
      "input.fsx (43,1)-(43,4) parse warning Posible sangría incorrecta: este token está fuera del contexto iniciado en la posición (38:5). Pruebe aplicando más sangría a este token o usando convenciones de formato estándar.\n",
      "input.fsx (48,1)-(48,4) parse warning Posible sangría incorrecta: este token está fuera del contexto iniciado en la posición (43:1). Pruebe aplicando más sangría a este token o usando convenciones de formato estándar.\n",
      "input.fsx (48,1)-(48,4) parse warning Posible sangría incorrecta: este token está fuera del contexto iniciado en la posición (43:1). Pruebe aplicando más sangría a este token o usando convenciones de formato estándar.\n",
      "input.fsx (51,1)-(51,7) parse warning Posible sangría incorrecta: este token está fuera del contexto iniciado en la posición (43:1). Pruebe aplicando más sangría a este token o usando convenciones de formato estándar.\n",
      "input.fsx (51,1)-(51,7) parse warning Posible sangría incorrecta: este token está fuera del contexto iniciado en la posición (43:1). Pruebe aplicando más sangría a este token o usando convenciones de formato estándar.\n",
      "input.fsx (43,1)-(43,4) parse error El bloque que sigue a este objeto 'let' está sin finalizar. Cada bloque de código es una expresión y debe tener un resultado. 'let' no puede ser el elemento de código final en un bloque. Considere la posibilidad de asignar a este bloque un resultado explícito."
     ]
    }
   ],
   "source": [
    "type Monedas = \n",
    "    {\n",
    "        M100:int //1 doblon = 100 centavos\n",
    "        M10: int\n",
    "        M25: int\n",
    "        M50: int\n",
    "    }\n",
    "\n",
    "type Categoria =\n",
    "    | Chocolate\n",
    "    | PapasFritas\n",
    "    | Bebida\n",
    "    | Galletitas\n",
    "\n",
    "type Producto = \n",
    "    {\n",
    "        nombre: string\n",
    "        categoria: Categoria\n",
    "        precio: float\n",
    "    }\n",
    "\n",
    "type Lugar = \n",
    "    {\n",
    "        estante: string\n",
    "        posicion: int\n",
    "    }\n",
    "\n",
    "\n",
    "type Producto_en_Maquina = \n",
    "    {\n",
    "        lugar: Lugar\n",
    "        cantidad: int\n",
    "        producto: Producto\n",
    "    }\n",
    "\n",
    "\n",
    "let verifico_lugar lugar:Lugar = \n",
    "    if lugar.posicion >= 10 then //Las posiciones se cuentan desde 0\n",
    "        false\n",
    "    else\n",
    "\n",
    "\n",
    "let input (dinero:Monedas) (estante: string) (posicion: int) =\n",
    "\n",
    "\n",
    "\n",
    "\n",
    "let Cantidad (dinero: Monedas) =\n",
    "    0.10*(float dinero.M10) + 0.25*(float dinero.M25) + 0.50*(float dinero.M50)\n",
    "\n",
    "printf \"%A\" (Cantidad test)"
   ]
  }
 ],
 "metadata": {
  "language_info": {
   "name": "python"
  },
  "orig_nbformat": 4
 },
 "nbformat": 4,
 "nbformat_minor": 2
}

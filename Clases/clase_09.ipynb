{
 "cells": [
  {
   "attachments": {},
   "cell_type": "markdown",
   "metadata": {},
   "source": [
    "Cuando los códigos son muy grandes deja de tener sentido trabajar con notebooks. Además, los códigos en notebooks cuestan más para mantener. Todos los lenguajes tienen una forma de organizar el código en proyectos.\n",
    "\n",
    "En Windows hay archivos que son librerías (.dll), ejecutables (.exe). Una vez que una librería está compilada podría usarse con otro lenguaje.\n",
    "\n",
    "Lo que vimos fue cómo .NET nos da herramientas para organizar nuestro código\n",
    "\n",
    "\n",
    "En\n",
    "dotnet new sln -o HolaMundo\n",
    "el \"-o\" es \"output\"\n",
    "\n",
    "Uno podría crear los proyectos asociados a una solución en cualquier lado, pero lo que se estila es ponerlo todos dentro de un directorio /src/ (\"source\")\n",
    "\n"
   ]
  },
  {
   "attachments": {},
   "cell_type": "markdown",
   "metadata": {},
   "source": [
    "Para definir una constante, por ejemplo un string, hay que hacer"
   ]
  },
  {
   "cell_type": "code",
   "execution_count": null,
   "metadata": {
    "dotnet_interactive": {
     "language": "fsharp"
    },
    "polyglot_notebook": {
     "kernelName": "fsharp"
    },
    "vscode": {
     "languageId": "polyglot-notebook"
    }
   },
   "outputs": [],
   "source": [
    "[<Literal>]\n",
    "let format2F \"%2D\""
   ]
  },
  {
   "attachments": {},
   "cell_type": "markdown",
   "metadata": {},
   "source": [
    "Ese decorador le dice al pre-compilador que siempre que vea esa variable lo reemplace directamente por el string. Esto es equivalente a DEFINE en C++"
   ]
  },
  {
   "attachments": {},
   "cell_type": "markdown",
   "metadata": {},
   "source": [
    "No tiene sentido guardar en github los archivos .o o .obj que se generan cada vez que uno compila el código porque son códigos en binario. Hay plantillas de .gitingore de acuerdo al lenguaje ((o proyecto)) que uno está utilizando"
   ]
  },
  {
   "cell_type": "code",
   "execution_count": null,
   "metadata": {
    "vscode": {
     "languageId": "polyglot-notebook"
    }
   },
   "outputs": [],
   "source": []
  }
 ],
 "metadata": {
  "language_info": {
   "name": "python"
  },
  "orig_nbformat": 4
 },
 "nbformat": 4,
 "nbformat_minor": 2
}

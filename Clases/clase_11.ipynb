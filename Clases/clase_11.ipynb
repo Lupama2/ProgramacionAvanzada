{
 "cells": [
  {
   "attachments": {},
   "cell_type": "markdown",
   "metadata": {},
   "source": [
    "# Clase 11\n",
    "\n",
    "\"new\" hace referencia a una lista de dotnet. La diferencia con las listas que vimos es que este nuevo tipo de lista es mutable, es decir, puedo cambiar el valor de sus elementos.\n",
    "\n",
    "La flecha \"<-\" hace referencia a \"asigná lo que está a la derecha a lo que está en la izquierda de forma mutable.\n",
    "\n",
    "Patologías existentes:\n",
    "*Muchos ifs\n",
    "*Se está fijando si es \"Backstage\" varias veces.\n",
    "\n",
    "Quizás sea necesario reescribir el código de forma más clara para agregar un artículo fácilmente.\n",
    "\n",
    "En un ApprovalTest se corrió el código completo y alguien guardó el resultado de la ejecución del código. Nosotros tenemos que hacer refactoring y que nos de lo mismo\n",
    "\n",
    "En el caso del ejercicio no hay que modificar nada de los ApprovalTests"
   ]
  },
  {
   "cell_type": "code",
   "execution_count": 2,
   "metadata": {},
   "outputs": [
    {
     "name": "stdout",
     "output_type": "stream",
     "text": [
      "Microsoft Windows [Versi�n 10.0.22621.1702]\n",
      "(c) Microsoft Corporation. Todos los derechos reservados.\n",
      "\n",
      "(Maestria3) c:\\Users\\lupam\\OneDrive\\Escritorio\\GitHub\\ProgramacionAvanzada\\Clases>\n",
      "(Maestria3) c:\\Users\\lupam\\OneDrive\\Escritorio\\GitHub\\ProgramacionAvanzada\\Clases># Para correr los tests\n"
     ]
    },
    {
     "name": "stderr",
     "output_type": "stream",
     "text": [
      "\"#\" no se reconoce como un comando interno o externo,\n",
      "programa o archivo por lotes ejecutable.\n"
     ]
    },
    {
     "name": "stdout",
     "output_type": "stream",
     "text": [
      "\n",
      "(Maestria3) c:\\Users\\lupam\\OneDrive\\Escritorio\\GitHub\\ProgramacionAvanzada\\Clases>dotnet test\n",
      "MSBUILD : error MSB1003: Especifique un archivo de proyecto o de solución. El directorio de trabajo actual no contiene un archivo de proyecto ni de solución.\n",
      "\n",
      "(Maestria3) c:\\Users\\lupam\\OneDrive\\Escritorio\\GitHub\\ProgramacionAvanzada\\Clases># parado sobre la soluci��n\n"
     ]
    },
    {
     "name": "stderr",
     "output_type": "stream",
     "text": [
      "\"#\" no se reconoce como un comando interno o externo,\n",
      "programa o archivo por lotes ejecutable.\n"
     ]
    },
    {
     "name": "stdout",
     "output_type": "stream",
     "text": [
      "\n",
      "(Maestria3) c:\\Users\\lupam\\OneDrive\\Escritorio\\GitHub\\ProgramacionAvanzada\\Clases>\n",
      "(Maestria3) c:\\Users\\lupam\\OneDrive\\Escritorio\\GitHub\\ProgramacionAvanzada\\Clases># Para compilar un c��digo\n"
     ]
    },
    {
     "name": "stderr",
     "output_type": "stream",
     "text": [
      "\"#\" no se reconoce como un comando interno o externo,\n",
      "programa o archivo por lotes ejecutable.\n"
     ]
    },
    {
     "name": "stdout",
     "output_type": "stream",
     "text": [
      "\n",
      "(Maestria3) c:\\Users\\lupam\\OneDrive\\Escritorio\\GitHub\\ProgramacionAvanzada\\Clases>dotnet build\n",
      "MSBuild version 17.5.0+6f08c67f3 for .NET\n",
      "MSBUILD : error MSB1003: Especifique un archivo de proyecto o de solución. El directorio de trabajo actual no contiene un archivo de proyecto ni de solución.\n",
      "\n",
      "(Maestria3) c:\\Users\\lupam\\OneDrive\\Escritorio\\GitHub\\ProgramacionAvanzada\\Clases># parado sobre el proyecto (creo)\n"
     ]
    },
    {
     "name": "stderr",
     "output_type": "stream",
     "text": [
      "\"#\" no se reconoce como un comando interno o externo,\n",
      "programa o archivo por lotes ejecutable.\n"
     ]
    },
    {
     "name": "stdout",
     "output_type": "stream",
     "text": [
      "\n",
      "(Maestria3) c:\\Users\\lupam\\OneDrive\\Escritorio\\GitHub\\ProgramacionAvanzada\\Clases>\n",
      "(Maestria3) c:\\Users\\lupam\\OneDrive\\Escritorio\\GitHub\\ProgramacionAvanzada\\Clases># Para correr el c��digo\n"
     ]
    },
    {
     "name": "stderr",
     "output_type": "stream",
     "text": [
      "\"#\" no se reconoce como un comando interno o externo,\n",
      "programa o archivo por lotes ejecutable.\n"
     ]
    },
    {
     "name": "stdout",
     "output_type": "stream",
     "text": [
      "\n",
      "(Maestria3) c:\\Users\\lupam\\OneDrive\\Escritorio\\GitHub\\ProgramacionAvanzada\\Clases>dotnet run\n"
     ]
    },
    {
     "name": "stderr",
     "output_type": "stream",
     "text": [
      "No se ha podido encontrar un proyecto para ejecutar. Asegúrese de que exista uno en c:\\Users\\lupam\\OneDrive\\Escritorio\\GitHub\\ProgramacionAvanzada\\Clases o pase la ruta de acceso al proyecto mediante --project.\n"
     ]
    },
    {
     "name": "stdout",
     "output_type": "stream",
     "text": [
      "\n",
      "(Maestria3) c:\\Users\\lupam\\OneDrive\\Escritorio\\GitHub\\ProgramacionAvanzada\\Clases># parado sobre el proyecto\n"
     ]
    },
    {
     "name": "stderr",
     "output_type": "stream",
     "text": [
      "\"#\" no se reconoce como un comando interno o externo,\n",
      "programa o archivo por lotes ejecutable.\n"
     ]
    },
    {
     "name": "stdout",
     "output_type": "stream",
     "text": [
      "\n",
      "(Maestria3) c:\\Users\\lupam\\OneDrive\\Escritorio\\GitHub\\ProgramacionAvanzada\\Clases>"
     ]
    }
   ],
   "source": [
    "%%cmd\n",
    "\n",
    "# Para correr los tests\n",
    "dotnet test\n",
    "# parado sobre la solución\n",
    "\n",
    "# Para compilar un código\n",
    "dotnet build\n",
    "# parado sobre el proyecto (creo)\n",
    "\n",
    "# Para correr el código\n",
    "dotnet run\n",
    "# parado sobre el proyecto"
   ]
  },
  {
   "cell_type": "code",
   "execution_count": null,
   "metadata": {},
   "outputs": [],
   "source": []
  }
 ],
 "metadata": {
  "kernelspec": {
   "display_name": "Maestria3",
   "language": "python",
   "name": "python3"
  },
  "language_info": {
   "codemirror_mode": {
    "name": "ipython",
    "version": 3
   },
   "file_extension": ".py",
   "mimetype": "text/x-python",
   "name": "python",
   "nbconvert_exporter": "python",
   "pygments_lexer": "ipython3",
   "version": "3.11.3"
  },
  "orig_nbformat": 4
 },
 "nbformat": 4,
 "nbformat_minor": 2
}

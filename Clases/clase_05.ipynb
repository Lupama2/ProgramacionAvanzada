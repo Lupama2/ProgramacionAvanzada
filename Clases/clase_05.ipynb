{
 "cells": [
  {
   "attachments": {},
   "cell_type": "markdown",
   "metadata": {},
   "source": [
    "# Clase 05"
   ]
  },
  {
   "attachments": {},
   "cell_type": "markdown",
   "metadata": {},
   "source": [
    "### El _Kata_ del tenis\n",
    "\n",
    "El propósito de este _kata_ es modelar el puntaje durante un partido de tenis. El puntaje se cuenta de la siguiente \n",
    "forma:\n",
    "\n",
    "- Un juego lo gana el primer jugador que ha ganado al menos cuatro puntos en total y al menos dos puntos más que el oponente.\n",
    "- La puntuación actual de cada juego se describe de una manera peculiar del tenis: las puntuaciones de cero a tres puntos se describen como \"cero\" (_love_), \"15\", \"30\" y \"40\", respectivamente.\n",
    "- Si cada jugador ha anotado al menos tres puntos y los puntajes son iguales, el puntaje es \"iguales\" (_deuce_).\n",
    "- Si cada lado ha anotado al menos tres puntos y un jugador tiene un punto más que su oponente, el puntaje del juego se dice que es \"ventaja\" (_advantage_) para el jugador que va en cabeza.\n",
    "\n",
    "**No me queda claro con qué profundidad hay que modelar el puntaje**\n",
    "\n"
   ]
  },
  {
   "cell_type": "code",
   "execution_count": null,
   "metadata": {
    "dotnet_interactive": {
     "language": "fsharp"
    },
    "polyglot_notebook": {
     "kernelName": "fsharp"
    },
    "vscode": {
     "languageId": "polyglot-notebook"
    }
   },
   "outputs": [],
   "source": []
  },
  {
   "attachments": {},
   "cell_type": "markdown",
   "metadata": {},
   "source": [
    "En el sentido de las exceptions expuesto en 50_Results, estas actúan más como un warning porque la línea de código\n",
    "sqrt (annoyedDivide x y)\n",
    "ejecuta tanto la división (con error)\n",
    "como la raíz cuadrada A PESAR de que ya hubo un error. ¿O el problema está en cómo hacemos la captura del error? Si no hago captura el programa simplemente corta, no?\n",
    "\n",
    "Falta un notebook 52_.md?"
   ]
  }
 ],
 "metadata": {
  "language_info": {
   "name": "python"
  },
  "orig_nbformat": 4
 },
 "nbformat": 4,
 "nbformat_minor": 2
}

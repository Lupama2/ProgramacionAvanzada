{
 "cells": [
  {
   "attachments": {},
   "cell_type": "markdown",
   "metadata": {},
   "source": [
    "# Clase 2\n",
    "\n",
    "¿Por qué es útil F# respecto a otros lenguajes?\n",
    "\n",
    "Un código comentado es un texto en 2 lenguajes distinto. No está bueno comentar mucho porque estamos escribiendo lo mismo en 2 lenguajes. El problema es que puede ser que digan cosas distintas.\n",
    "\n",
    "La ventaja de los lenguajes funcionales es que no es necesario comentar mucho\n",
    "\n",
    "Un campo de un record podría recibir funciones. \n",
    "\n",
    "\n",
    "Las discriminated union son como tener un case (de C++) dentro de un tipo de dato\n",
    "\n",
    "Es útil usar discriminated union para restringir el modelo a determinados tipos. Para representar el input de una máquina expendedora podría usar todos los reales, pero realmente el nro va a poder tomar solo unos cuantos valores.\n",
    "\n",
    "En el código\n"
   ]
  },
  {
   "cell_type": "code",
   "execution_count": null,
   "metadata": {
    "dotnet_interactive": {
     "language": "fsharp"
    },
    "polyglot_notebook": {
     "kernelName": "fsharp"
    },
    "vscode": {
     "languageId": "polyglot-notebook"
    }
   },
   "outputs": [],
   "source": [
    "    match change with \n",
    "    | Amount money -> money\n",
    "    | NoChange -> 0 \n",
    "\n",
    "let c = Amount 3 \n",
    "\n",
    "printfn \"You are receiving %A $ as change\" (changeValue c)"
   ]
  },
  {
   "attachments": {},
   "cell_type": "markdown",
   "metadata": {},
   "source": [
    "c es una variable del tipo change. El compilador se da cuenta porque Amount solo está definido dentro de la discriminated union change. Escribir"
   ]
  },
  {
   "cell_type": "code",
   "execution_count": null,
   "metadata": {
    "dotnet_interactive": {
     "language": "fsharp"
    },
    "polyglot_notebook": {
     "kernelName": "fsharp"
    },
    "vscode": {
     "languageId": "polyglot-notebook"
    }
   },
   "outputs": [],
   "source": [
    "let c = Amount 3"
   ]
  },
  {
   "attachments": {},
   "cell_type": "markdown",
   "metadata": {},
   "source": [
    "es equivalente a escribir"
   ]
  },
  {
   "cell_type": "code",
   "execution_count": null,
   "metadata": {
    "dotnet_interactive": {
     "language": "fsharp"
    },
    "polyglot_notebook": {
     "kernelName": "fsharp"
    },
    "vscode": {
     "languageId": "polyglot-notebook"
    }
   },
   "outputs": [],
   "source": [
    "let c = change.Amount 3"
   ]
  },
  {
   "attachments": {},
   "cell_type": "markdown",
   "metadata": {},
   "source": [
    "No entiendo el párrafo\n",
    "> Notar sobre cómo una unión discriminada que mezcla tipos básicos parece presentar una especie de divergencia en el código. El tipo `Change` combina un tipo `float` envuelto (con `Amount`) y un tipo de unión pura `NoChange`. Dado que las funciones deben tener tipos de entrada y salida específicos, cualquier función que reciba una entrada `Change` tiene que devolver una salida definida. Normalmente hay dos posibilidades. La primera es que la función _aplane_ las entradas (]como en el caso de `changeValue`), donde se obtiene el valor flotante del dinero que recibe el usuario. La segunda corresponde a una función que promueve los tipos de entrada a otro: por ejemplo, el caso trivial sería una función que imprime la cantidad de dinero que recibe el cliente, `imprimeCambio: Change -> ()`, es decir, recibe un 'Cambio' y devuelve 'unidad'.\n",
    "> Esta es una de las ideas clave detrás de la programación funcional, poder conectar diferentes tipos a través de funciones.\n",
    "Me dijo que lo vamos a volver a ver la próxima clase\n",
    "\n",
    "El código"
   ]
  },
  {
   "cell_type": "code",
   "execution_count": null,
   "metadata": {
    "dotnet_interactive": {
     "language": "csharp"
    },
    "polyglot_notebook": {
     "kernelName": "csharp"
    },
    "vscode": {
     "languageId": "polyglot-notebook"
    }
   },
   "outputs": [],
   "source": [
    "let (Model yPhoneModel) = yPhone\n",
    "printfn \"The model of the yPhone is %A\" yPhoneModel"
   ]
  },
  {
   "attachments": {},
   "cell_type": "markdown",
   "metadata": {},
   "source": [
    "desempaqueta el string dentro de Model (el Model llamado es el Model de dentro de la definición del tipo Model). Esto es idéntico a haber hecho un match de un único elemento.\n"
   ]
  }
 ],
 "metadata": {
  "language_info": {
   "name": "python"
  },
  "orig_nbformat": 4
 },
 "nbformat": 4,
 "nbformat_minor": 2
}

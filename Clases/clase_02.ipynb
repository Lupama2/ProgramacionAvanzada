{
 "cells": [
  {
   "attachments": {},
   "cell_type": "markdown",
   "metadata": {},
   "source": [
    "# Clase 2"
   ]
  },
  {
   "attachments": {},
   "cell_type": "markdown",
   "metadata": {},
   "source": [
    "Comentario en las notas:\n",
    "Obsérvese también que ambas ramas del condicional deben evaluarse al mismo tipo de dato, en el ejemplo anterior, `int`.\n",
    " \n",
    "Esto es, siempre tiene que devolver el mismo tipo de variable\n"
   ]
  },
  {
   "cell_type": "code",
   "execution_count": 1,
   "metadata": {
    "dotnet_interactive": {
     "language": "fsharp"
    },
    "polyglot_notebook": {
     "kernelName": "fsharp"
    },
    "vscode": {
     "languageId": "polyglot-notebook"
    }
   },
   "outputs": [
    {
     "name": "stderr",
     "output_type": "stream",
     "text": [
      "Detenido debido a un error.\n"
     ]
    },
    {
     "ename": "Error",
     "evalue": "input.fsx (1,1)-(1,4) typecheck error El valor o constructor \"fib\" no está definido. Puede elegir una de las opciones siguientes:\r\n   File",
     "output_type": "error",
     "traceback": [
      "input.fsx (1,1)-(1,4) typecheck error El valor o constructor \"fib\" no está definido. Puede elegir una de las opciones siguientes:\r\n",
      "   File"
     ]
    }
   ],
   "source": [
    "fib 10 |> printfn \"%i\" \n",
    "// Aquí se evalúa la función fib 10 y al resultado se lo manda a printf \"%i\" que entiendo imprime el resultado"
   ]
  },
  {
   "attachments": {},
   "cell_type": "markdown",
   "metadata": {},
   "source": [
    "rec para decir que es recursivo\n",
    "\n",
    "Si tenemos muchos ifs anidados, hay que reemplazarlo por un tipo de dato suma\n",
    "\n",
    "El ejemplo"
   ]
  },
  {
   "cell_type": "code",
   "execution_count": 2,
   "metadata": {
    "dotnet_interactive": {
     "language": "fsharp"
    },
    "polyglot_notebook": {
     "kernelName": "fsharp"
    },
    "vscode": {
     "languageId": "polyglot-notebook"
    }
   },
   "outputs": [],
   "source": [
    "let fib n =\n",
    "    let rec loop acc1 acc2 n =\n",
    "        match n with\n",
    "        | 0 -> acc1\n",
    "        | 1 -> acc2\n",
    "        | _ ->\n",
    "            loop acc2 (acc1 + acc2) (n - 1)\n",
    "    loop 0 1 n\n"
   ]
  },
  {
   "attachments": {},
   "cell_type": "markdown",
   "metadata": {},
   "source": [
    "es similar a "
   ]
  },
  {
   "cell_type": "code",
   "execution_count": 3,
   "metadata": {
    "dotnet_interactive": {
     "language": "csharp"
    },
    "polyglot_notebook": {
     "kernelName": "csharp"
    },
    "vscode": {
     "languageId": "polyglot-notebook"
    }
   },
   "outputs": [],
   "source": [
    "int fib(int n) {\n",
    "    int prev1 = 0, prev2 = 1, curr = 0;\n",
    "    if (n == 0)\n",
    "        return prev1;\n",
    "    else if (n == 1)\n",
    "        return prev2;\n",
    "    else {\n",
    "        for (int i = 2; i <= n; i++) {\n",
    "            curr = prev1 + prev2;\n",
    "            prev1 = prev2;\n",
    "            prev2 = curr;\n",
    "        }\n",
    "        return curr;\n",
    "    }\n",
    "}"
   ]
  },
  {
   "attachments": {},
   "cell_type": "markdown",
   "metadata": {},
   "source": [
    "en el que uno paso a paso redefine paso a paso las variables. La forma de \"redefinir\" en F# es redefiniendo en los argumentos de la función"
   ]
  },
  {
   "attachments": {},
   "cell_type": "markdown",
   "metadata": {},
   "source": [
    "## Ejercicios\n",
    "\n",
    "### Volviendo a `FizzBuzz` \n",
    "\n",
    "Ahora puede volver al [ejercicio de FizzBuzz]({% link _fsharp/03_Exercises.md %}### FizzBuzz _Kata_) y comenzar\n",
    "a resolverlo en F#. Construir una función que dado un número, imprima Fizz para múltiplos de tres, Buzz para números múltiplos de cinco,\n",
    "y además, si el número es múltiplo de tres y cinco, debe imprimir FizzBuzz.\n",
    "\n",
    "**Tenemos que hacerla de modo que sea gralizable?**\n",
    "\n",
    "\n"
   ]
  },
  {
   "cell_type": "code",
   "execution_count": 4,
   "metadata": {
    "dotnet_interactive": {
     "language": "csharp"
    },
    "polyglot_notebook": {
     "kernelName": "csharp"
    },
    "vscode": {
     "languageId": "polyglot-notebook"
    }
   },
   "outputs": [
    {
     "ename": "Error",
     "evalue": "(1,2): error CS1024: Se esperaba una directiva de preprocesador\r\n(3,14): error CS1002: Se esperaba ;\r\n(3,14): error CS1525: El término de expresión 'as' no es válido\r\n(3,19): error CS1002: Se esperaba ;\r\n(4,20): error CS1026: Se esperaba )\r\n(4,45): error CS1002: Se esperaba ;\r\n(4,45): error CS7017: Se esperaba una definición, una instrucción o un fin de archivo\r\n(5,20): error CS1026: Se esperaba )\r\n(5,28): error CS1002: Se esperaba ;\r\n(5,28): error CS7017: Se esperaba una definición, una instrucción o un fin de archivo\r\n(7,24): error CS1001: Se esperaba un identificador\r\n(7,26): error CS1018: Se esperaba la palabra clave 'this' o 'base'\r\n(7,26): error CS1002: Se esperaba ;\r\n(8,14): error CS1002: Se esperaba ;\r\n(9,9): error CS1003: Error de sintaxis, se esperaba '('\r\n(9,17): error CS1003: Error de sintaxis, se esperaba ','\r\n(9,20): error CS1003: Error de sintaxis, se esperaba ','\r\n(9,25): error CS1003: Error de sintaxis, se esperaba ','\r\n(9,26): error CS1003: Error de sintaxis, se esperaba ','\r\n(10,30): error CS1002: Se esperaba ;\r\n(10,30): error CS1525: El término de expresión 'return' no es válido\r\n(10,30): error CS1002: Se esperaba ;\r\n(10,30): error CS1026: Se esperaba )\r\n(11,16): error CS1002: Se esperaba ;\r\n(13,20): error CS1001: Se esperaba un identificador\r\n(13,22): error CS1018: Se esperaba la palabra clave 'this' o 'base'\r\n(13,22): error CS1002: Se esperaba ;\r\n(14,5): error CS1011: Literal de carácter vacío\r\n(14,7): error CS1002: Se esperaba ;\r\n(14,7): error CS1010: Nueva línea en constante\r\n(14,7): error CS1011: Literal de carácter vacío\r\n(14,8): error CS1002: Se esperaba ;\r\n(15,19): error CS1002: Se esperaba ;\r\n(15,28): error CS1002: Se esperaba ;\r\n(15,35): error CS1002: Se esperaba ;\r\n(15,42): error CS1002: Se esperaba ;\r\n(16,5): error CS1011: Literal de carácter vacío\r\n(16,7): error CS1002: Se esperaba ;\r\n(16,7): error CS1010: Nueva línea en constante\r\n(16,7): error CS1011: Literal de carácter vacío\r\n(16,8): error CS1002: Se esperaba ;\r\n(17,6): error CS1024: Se esperaba una directiva de preprocesador\r\n(18,8): error CS1003: Error de sintaxis, se esperaba '('\r\n(18,12): error CS1026: Se esperaba )\r\n(18,12): error CS1525: El término de expresión ':' no es válido\r\n(18,12): error CS1002: Se esperaba ;\r\n(18,12): error CS7017: Se esperaba una definición, una instrucción o un fin de archivo\r\n(19,25): error CS1001: Se esperaba un identificador\r\n(19,48): error CS1002: Se esperaba ;\r\n(21,9): error CS1003: Error de sintaxis, se esperaba '('\r\n(21,11): error CS1003: Error de sintaxis, se esperaba ','\r\n(21,14): error CS1003: Error de sintaxis, se esperaba ','\r\n(21,26): error CS1003: Error de sintaxis, se esperaba ','\r\n(21,27): error CS1003: Error de sintaxis, se esperaba ','\r\n(22,33): error CS1002: Se esperaba ;\r\n(22,33): error CS1525: El término de expresión 'if' no es válido\r\n(22,33): error CS1002: Se esperaba ;\r\n(22,33): error CS1026: Se esperaba )\r\n(23,12): error CS1003: Error de sintaxis, se esperaba '('\r\n(23,32): error CS1026: Se esperaba )\r\n(23,32): error CS1525: El término de expresión ':' no es válido\r\n(23,32): error CS1002: Se esperaba ;\r\n(23,34): error CS1040: Las directivas de preprocesador deben ser el primer carácter de una línea que no sea un espacio en blanco\r\n(24,21): error CS1002: Se esperaba ;\r\n(24,21): error CS8641: “else” no puede iniciar una instrucción.\r\n(24,21): error CS1003: Error de sintaxis, se esperaba '('\r\n(24,21): error CS1525: El término de expresión 'else' no es válido\r\n(24,21): error CS1026: Se esperaba )\r\n(24,21): error CS1525: El término de expresión 'else' no es válido\r\n(24,21): error CS1002: Se esperaba ;\r\n(25,13): error CS1525: El término de expresión ':' no es válido\r\n(25,13): error CS1002: Se esperaba ;\r\n(25,15): error CS1040: Las directivas de preprocesador deben ser el primer carácter de una línea que no sea un espacio en blanco\r\n(26,51): error CS1002: Se esperaba ;\r\n(28,10): error CS1002: Se esperaba ;",
     "output_type": "error",
     "traceback": [
      "(1,2): error CS1024: Se esperaba una directiva de preprocesador\r\n",
      "(3,14): error CS1002: Se esperaba ;\r\n",
      "(3,14): error CS1525: El término de expresión 'as' no es válido\r\n",
      "(3,19): error CS1002: Se esperaba ;\r\n",
      "(4,20): error CS1026: Se esperaba )\r\n",
      "(4,45): error CS1002: Se esperaba ;\r\n",
      "(4,45): error CS7017: Se esperaba una definición, una instrucción o un fin de archivo\r\n",
      "(5,20): error CS1026: Se esperaba )\r\n",
      "(5,28): error CS1002: Se esperaba ;\r\n",
      "(5,28): error CS7017: Se esperaba una definición, una instrucción o un fin de archivo\r\n",
      "(7,24): error CS1001: Se esperaba un identificador\r\n",
      "(7,26): error CS1018: Se esperaba la palabra clave 'this' o 'base'\r\n",
      "(7,26): error CS1002: Se esperaba ;\r\n",
      "(8,14): error CS1002: Se esperaba ;\r\n",
      "(9,9): error CS1003: Error de sintaxis, se esperaba '('\r\n",
      "(9,17): error CS1003: Error de sintaxis, se esperaba ','\r\n",
      "(9,20): error CS1003: Error de sintaxis, se esperaba ','\r\n",
      "(9,25): error CS1003: Error de sintaxis, se esperaba ','\r\n",
      "(9,26): error CS1003: Error de sintaxis, se esperaba ','\r\n",
      "(10,30): error CS1002: Se esperaba ;\r\n",
      "(10,30): error CS1525: El término de expresión 'return' no es válido\r\n",
      "(10,30): error CS1002: Se esperaba ;\r\n",
      "(10,30): error CS1026: Se esperaba )\r\n",
      "(11,16): error CS1002: Se esperaba ;\r\n",
      "(13,20): error CS1001: Se esperaba un identificador\r\n",
      "(13,22): error CS1018: Se esperaba la palabra clave 'this' o 'base'\r\n",
      "(13,22): error CS1002: Se esperaba ;\r\n",
      "(14,5): error CS1011: Literal de carácter vacío\r\n",
      "(14,7): error CS1002: Se esperaba ;\r\n",
      "(14,7): error CS1010: Nueva línea en constante\r\n",
      "(14,7): error CS1011: Literal de carácter vacío\r\n",
      "(14,8): error CS1002: Se esperaba ;\r\n",
      "(15,19): error CS1002: Se esperaba ;\r\n",
      "(15,28): error CS1002: Se esperaba ;\r\n",
      "(15,35): error CS1002: Se esperaba ;\r\n",
      "(15,42): error CS1002: Se esperaba ;\r\n",
      "(16,5): error CS1011: Literal de carácter vacío\r\n",
      "(16,7): error CS1002: Se esperaba ;\r\n",
      "(16,7): error CS1010: Nueva línea en constante\r\n",
      "(16,7): error CS1011: Literal de carácter vacío\r\n",
      "(16,8): error CS1002: Se esperaba ;\r\n",
      "(17,6): error CS1024: Se esperaba una directiva de preprocesador\r\n",
      "(18,8): error CS1003: Error de sintaxis, se esperaba '('\r\n",
      "(18,12): error CS1026: Se esperaba )\r\n",
      "(18,12): error CS1525: El término de expresión ':' no es válido\r\n",
      "(18,12): error CS1002: Se esperaba ;\r\n",
      "(18,12): error CS7017: Se esperaba una definición, una instrucción o un fin de archivo\r\n",
      "(19,25): error CS1001: Se esperaba un identificador\r\n",
      "(19,48): error CS1002: Se esperaba ;\r\n",
      "(21,9): error CS1003: Error de sintaxis, se esperaba '('\r\n",
      "(21,11): error CS1003: Error de sintaxis, se esperaba ','\r\n",
      "(21,14): error CS1003: Error de sintaxis, se esperaba ','\r\n",
      "(21,26): error CS1003: Error de sintaxis, se esperaba ','\r\n",
      "(21,27): error CS1003: Error de sintaxis, se esperaba ','\r\n",
      "(22,33): error CS1002: Se esperaba ;\r\n",
      "(22,33): error CS1525: El término de expresión 'if' no es válido\r\n",
      "(22,33): error CS1002: Se esperaba ;\r\n",
      "(22,33): error CS1026: Se esperaba )\r\n",
      "(23,12): error CS1003: Error de sintaxis, se esperaba '('\r\n",
      "(23,32): error CS1026: Se esperaba )\r\n",
      "(23,32): error CS1525: El término de expresión ':' no es válido\r\n",
      "(23,32): error CS1002: Se esperaba ;\r\n",
      "(23,34): error CS1040: Las directivas de preprocesador deben ser el primer carácter de una línea que no sea un espacio en blanco\r\n",
      "(24,21): error CS1002: Se esperaba ;\r\n",
      "(24,21): error CS8641: “else” no puede iniciar una instrucción.\r\n",
      "(24,21): error CS1003: Error de sintaxis, se esperaba '('\r\n",
      "(24,21): error CS1525: El término de expresión 'else' no es válido\r\n",
      "(24,21): error CS1026: Se esperaba )\r\n",
      "(24,21): error CS1525: El término de expresión 'else' no es válido\r\n",
      "(24,21): error CS1002: Se esperaba ;\r\n",
      "(25,13): error CS1525: El término de expresión ':' no es válido\r\n",
      "(25,13): error CS1002: Se esperaba ;\r\n",
      "(25,15): error CS1040: Las directivas de preprocesador deben ser el primer carácter de una línea que no sea un espacio en blanco\r\n",
      "(26,51): error CS1002: Se esperaba ;\r\n",
      "(28,10): error CS1002: Se esperaba ;"
     ]
    }
   ],
   "source": [
    "#Código original (mío):\n",
    "\n",
    "import numpy as np\n",
    "strings = np.array([\"Fizz\", \"Buzz\", \"Whizz\"])\n",
    "numbers = np.array([3,5, 7])\n",
    "\n",
    "def sumar_strings(lista):\n",
    "    suma = \"\"\n",
    "    for palabra in lista:\n",
    "        suma = suma + palabra\n",
    "    return suma\n",
    "\n",
    "def FizzBuzz_Kata(N):\n",
    "    '''\n",
    "    N: nro máximo hasta el que se imprime\n",
    "    '''\n",
    "    #Controlo N > 1:\n",
    "    if N<=1:\n",
    "        raise Exception(\"N debe ser mayor a 1\")\n",
    "\n",
    "    for i in range(1,N+1):\n",
    "        indices = i%numbers == 0\n",
    "        if np.sum(indices) == 0: #Ningún nro es divisible\n",
    "            print(i)\n",
    "        else: #Sumo los strings correspondiente\n",
    "            print(sumar_strings(strings[indices]))\n",
    "\n",
    "N = 3*7*5\n",
    "FizzBuzz_Kata(N)"
   ]
  },
  {
   "cell_type": "code",
   "execution_count": 5,
   "metadata": {
    "dotnet_interactive": {
     "language": "fsharp"
    },
    "polyglot_notebook": {
     "kernelName": "fsharp"
    },
    "vscode": {
     "languageId": "polyglot-notebook"
    }
   },
   "outputs": [
    {
     "name": "stdout",
     "output_type": "stream",
     "text": [
      "FizzBuzz"
     ]
    }
   ],
   "source": [
    "let FizzBuzz (n:int) =\n",
    "    match n with\n",
    "    | n when n%3 = 0 && n%5 = 0 -> printf \"FizzBuzz\"\n",
    "    | n when n%3 = 0 -> printf \"Fizz\"\n",
    "    | n when n%5 = 0 -> printf \"Buzz\"\n",
    "    | _ -> ()\n",
    "\n",
    "FizzBuzz 15\n",
    "\n"
   ]
  },
  {
   "attachments": {},
   "cell_type": "markdown",
   "metadata": {},
   "source": [
    "\n",
    "### Puntos cardinales\n",
    "\n",
    "Construya un tipo de dato que represente los puntos cardinales principales (N,S,E,O) y los intermedios (NE,NO,SE,SO).\n",
    "Defina una función que permita determinar hacia qué punto cardinal un vehículo se está dirigiendo, dado el rumbo del mismo,\n",
    "definido como un ángulo en el rango  0 y 359 grados.\n",
    "\n",
    "\n"
   ]
  },
  {
   "cell_type": "code",
   "execution_count": 6,
   "metadata": {
    "dotnet_interactive": {
     "language": "fsharp"
    },
    "polyglot_notebook": {
     "kernelName": "fsharp"
    },
    "vscode": {
     "languageId": "polyglot-notebook"
    }
   },
   "outputs": [],
   "source": [
    "type PuntoCardinal = \n",
    "    | N\n",
    "    | S\n",
    "    | E\n",
    "    | O\n",
    "    // | NE\n",
    "    // | NO\n",
    "    // | SE\n",
    "    // | SO\n",
    "\n",
    "let Direccion (angulo :float) = \n",
    "    let angulo_sep:float = 360./4.0\n",
    "    // let angulo_sep = 360/8\n",
    "    match angulo with\n",
    "    | angulo when -angulo_sep/2. < angulo  && angulo  < angulo_sep/2. -> PuntoCardinal.N\n",
    "    //Así sucesivamente\n"
   ]
  },
  {
   "attachments": {},
   "cell_type": "markdown",
   "metadata": {},
   "source": [
    "\n",
    "### Volviendo al truco \n",
    "\n",
    "Retomando el [ejercicio del truco]({% link _fsharp/14_Exercises.md %}### Poker (o Truco)):\n",
    "\n",
    "El _envido_  en el truco requiere en tener dos cartas del mismo palo, de las tres cartas de la mano. \n",
    "Asumiendo que se tienen 2 cartas del mismo palo, se suma su valor + 20 (de ahí la importancia de ligar dos cartas del mismo palo). La puntuación más alta del envido es 33 (7+6+20=33).\n",
    "Las figuras o cartas negras (sota, caballo y rey) valen 0 puntos para el envido. Si se tienen 2 figuras del mismo palo la puntuación de envido es 20.\n",
    "Recuerde que en el truco, los ochos y nueves no forman parte del mazo.\n",
    "\n",
    "- Escriba una función que dadas tres cartas, determine si es posible formar un envido.\n",
    "- Escriba una función que dadas dos cartas, retorne el valor del envido, o algun tipo de error si no tiene envido con dichas cartas.\n",
    "\n"
   ]
  },
  {
   "cell_type": "code",
   "execution_count": 7,
   "metadata": {
    "dotnet_interactive": {
     "language": "fsharp"
    },
    "polyglot_notebook": {
     "kernelName": "fsharp"
    },
    "vscode": {
     "languageId": "polyglot-notebook"
    }
   },
   "outputs": [],
   "source": [
    "type Palo = \n",
    "    | Basto\n",
    "    | Espada\n",
    "    | Copa\n",
    "    | Oro\n",
    "\n",
    "type CartaStd = //Carta Standard\n",
    "    {\n",
    "        Nro: int //Técniamente solo se pueden usar entre 1 y 12, pero no se podría usar 8 y 9...\n",
    "        Palo: Palo\n",
    "    }"
   ]
  },
  {
   "cell_type": "code",
   "execution_count": 8,
   "metadata": {
    "dotnet_interactive": {
     "language": "fsharp"
    },
    "polyglot_notebook": {
     "kernelName": "fsharp"
    },
    "vscode": {
     "languageId": "polyglot-notebook"
    }
   },
   "outputs": [
    {
     "name": "stdout",
     "output_type": "stream",
     "text": [
      "true"
     ]
    }
   ],
   "source": [
    "let HayEnvido carta1 carta2 carta3 =\n",
    "    carta1.Palo = carta2.Palo || carta2.Palo = carta3.Palo || carta3.Palo = carta1.Palo\n",
    "\n",
    "//Testeo:\n",
    "let test_carta1=\n",
    "    {\n",
    "        Nro = 11\n",
    "        Palo = Espada\n",
    "    }\n",
    "\n",
    "let test_carta2=\n",
    "    {\n",
    "        Nro = 3\n",
    "        Palo = Espada\n",
    "    }\n",
    "\n",
    "let test_carta3=\n",
    "    {\n",
    "        Nro = 3\n",
    "        Palo = Oro\n",
    "    }\n",
    "\n",
    "printf \"%A\" (HayEnvido test_carta1 test_carta2 test_carta3)"
   ]
  },
  {
   "cell_type": "code",
   "execution_count": 9,
   "metadata": {
    "dotnet_interactive": {
     "language": "fsharp"
    },
    "polyglot_notebook": {
     "kernelName": "fsharp"
    },
    "vscode": {
     "languageId": "polyglot-notebook"
    }
   },
   "outputs": [
    {
     "name": "stdout",
     "output_type": "stream",
     "text": [
      "23"
     ]
    }
   ],
   "source": [
    "let NroToEnv carta =\n",
    "    //Dada una carta, devuelve el valor de su nro si se haría la cuenta de envido\n",
    "    match carta.Nro with\n",
    "    | 11 | 12 -> 0\n",
    "    |_ -> carta.Nro\n",
    "\n",
    "// printf \"%A\" ((NroToEnv test_carta1)+1)\n",
    "\n",
    "let Envido (carta1:CartaStd) (carta2:CartaStd) =\n",
    "    if carta1.Palo = carta2.Palo then\n",
    "        // Hay envido\n",
    "        20 + (NroToEnv carta1) + (NroToEnv carta2)\n",
    "    else\n",
    "        //No hay envido\n",
    "        0\n",
    "\n",
    "printf \"%A\" (Envido test_carta1 test_carta2)"
   ]
  },
  {
   "attachments": {},
   "cell_type": "markdown",
   "metadata": {},
   "source": [
    "**Acá estoy \"confiando en el usuario\" de que no va a meter cartas que no existan. Está bien? Debería reportar algún error?**"
   ]
  },
  {
   "attachments": {},
   "cell_type": "markdown",
   "metadata": {},
   "source": [
    "### Calculando $e^x$ \n",
    "\n",
    "Utilice recursión para calcular el valor de $e^x$  usando la serie\n",
    "\n",
    "$$\n",
    "e^x = \\sum_{n=0}^{N-1} \\frac{x^n}{n!}\n",
    "\n",
    "e^x = \\sum_{n=0}^{M} \\frac{x^n}{n!}\n",
    "$$\n",
    "\n",
    "hasta un número fijo $N$ de términos. \n",
    "\n"
   ]
  },
  {
   "attachments": {},
   "cell_type": "markdown",
   "metadata": {},
   "source": [
    "La siguiente forma de resolverlo es ineficiente porque se calcula cada término en cada iteración, no aprovechando la info. del paso anterior\n",
    "\n",
    "let rec expTerm (M:int) (x:float) =\n",
    "    //Término M-ésimo\n",
    "    match M with\n",
    "    | 0 -> 1.\n",
    "    // | M -> x/(float M)*(expSerie (M-1) x) + (expSerie (M-1) x)\n",
    "    // | M -> 1/(float M*(expSerie (M-1) x))\n",
    "    | M -> (x/ float M)*(expTerm (M-1) x )\n",
    "\n",
    "printfn \"%A Término 3 de la suma para e^2\" (expTerm 3 2)    \n",
    "\n",
    "let rec expSerie (N:int) (x:float) =\n",
    "    match N with\n",
    "    | 0 -> 0.\n",
    "    | 1 -> expTerm 0 x\n",
    "    | N -> expTerm (N-1) x + expSerie (N-1) x\n",
    "\n",
    "printf \"%A Suma con N = 10 términos para e^1\" (expSerie 10 1)\n",
    "\n",
    "\n",
    "Nueva manera: calculo desde el último término hacia atrás\n",
    "\n",
    "\n",
    "let rec expTerm (M:int) (x:float) (expTerm_prev: float) = \n",
    "    match M with\n",
    "    | 0 -> 1.\n",
    "    | M -> (x/ float M)*(expTerm_prev)\n",
    "\n",
    "let N = 10\n",
    "\n",
    "let M = 0\n",
    "\n",
    "let rec expSerie (M:int) (N:int) (x:float) = \n",
    "    if M < N do\n",
    "        match M with\n",
    "        | 0 -> 0.\n",
    "        | 1 -> expTerm 0 x 0\n",
    "        | M -> expTerm M x \n",
    "        //Calculo a_M\n",
    "        //se lo sumo a a_M-1\n",
    "        else"
   ]
  },
  {
   "cell_type": "code",
   "execution_count": 10,
   "metadata": {
    "dotnet_interactive": {
     "language": "fsharp"
    },
    "polyglot_notebook": {
     "kernelName": "fsharp"
    },
    "vscode": {
     "languageId": "polyglot-notebook"
    }
   },
   "outputs": [],
   "source": [
    "\n",
    "\n"
   ]
  },
  {
   "attachments": {},
   "cell_type": "markdown",
   "metadata": {},
   "source": [
    "Suponga ahora que se quiere calcular la serie pero en lugar de calcular un número fijo de términos, se desea evaluar la función con un error relativo dado `epsilon`. Modifique\n",
    "el código anterior para obtener esta función. \n",
    "\n",
    "\n",
    "Típicamente, para hacer recursión, uno debe identificar cómo construir el término siguiente de la sucesión a partir del término anterior. En este caso, multiplicado el término anterior por x/n"
   ]
  },
  {
   "attachments": {},
   "cell_type": "markdown",
   "metadata": {},
   "source": [
    "**PREGUNTAR DUDAS DE EJERCICIOS DE CLASES PASADAS TMB**"
   ]
  }
 ],
 "metadata": {
  "kernelspec": {
   "display_name": "IntroPython",
   "language": "python",
   "name": "python3"
  },
  "language_info": {
   "name": "python",
   "version": "3.10.9"
  },
  "orig_nbformat": 4
 },
 "nbformat": 4,
 "nbformat_minor": 2
}

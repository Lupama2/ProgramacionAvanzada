{
 "cells": [
  {
   "attachments": {},
   "cell_type": "markdown",
   "metadata": {},
   "source": [
    "# Clase 0: 10/04/2023"
   ]
  },
  {
   "attachments": {},
   "cell_type": "markdown",
   "metadata": {},
   "source": [
    "F# (pronunciado F Sharp) es un lenguaje de programación multiparadigma de código abierto,1​ para la plataforma .NET. F# no es un lenguaje puramente funcional, como sí lo es Haskell. F# es un lenguaje compilado a diferencia de python que es un lenguaje interpretado. A pesar de esto, el editor compila el código continuamente para avisar sobre posibles errores. De este modo, en la edición del código uno elimina una gran cantidad de errores. Esto último depende del editor. Se puede usar Rider (de JetBravis) que es pago pero podemos acceder gratuitamente con la cuenta del IB, VSCode con la extensión Ionide, Vi (Emacs) con la extensión Ionide, Visual Studio. También se puede trabajar con F# en la web, a través de un modo interactivo similar a IPython y tmb se puede usar notebooks (Jupyter)\n",
    "\n",
    "F# trabaja con datos de tipos estáticos que infiere, es decir, no hay que declarar directamente el tipo de dato, aunque se puede declarar el tipo de dato si se quiere. \n",
    "\n",
    ".NET (dot NET) es un framework sobre el que se puede trabajar con distintos lenguajes. Como Python tiene a Conda como manejador de paquetes, .NET tiene a nuget.\n",
    "\n",
    "¿Qué es un Lenguaje Funcional?\n",
    "Existen distintos tipos de lenguajes:\n",
    "* Lenguajes imperativos: en cada línea del código se establece una sentencia que la computadora va a ejecutar. Ejemplos son Asembler, C\n",
    "* Lenguajes orientados a objetos: en una estructura (clase) uno tiene que definir el tipo de dato y los métodos. Python es un lenguaje orientado a objetos a pesar de que uno lo use como lenguaje imperativo. Este tipo de lenguajes tiene a complejidad de establecer la interacción entre objetos\n",
    "* Lenguajes funcionales: permiten realizar programación funcional, un paradigma de programación. Esto último es una forma de pensar un problema. Sus principales características son:\n",
    "    * Tiene datos que son inmutables. Por ej no se puede definir a = 4 y luego a = a + 1. Uno no tiene más datos como variables (matemáticas), sino que son valores como identificadores. Esto tiene que ver con la asociación del lenguaje con las funciones matemáticas: dentro de una función en matemática uno no redefine el nombre de la variable. Si bien no se pueden modificar, se pueden crear tantas como uno quiera. La asignación funciona de la forma  \n",
    "a = b+1  \n",
    "valor = expresión  \n",
    "    * Las funciones se pueden declarar junto a su dominio e imagen (input y output, respectivamente)\n",
    "    * Las funciones se pueden componer entre sí\n",
    "    * Si una función posee más de un argumento se puede hacer una aplicación partcial para obtener otra función.\n",
    "\n",
    "    \n",
    "Estos últimos 3 puntos son válidos ya sea para una función desde el punto de vista matemático o del \"mundo real\" (vida cotidiana), las funciones se pueden declarar. Ejemplos:\n",
    "* Composición: sea g(x) y f(x), entonces f(g(x)) es una composición. Sea Primer_Nombre y Inicial funciones, entonces Incial_del_Primer_Nombre = Primer_Nombre(Inicial(Nombre y apellido))\n",
    "* Aplicación parcial: sea g(x,y) = (x+1, y+1) entonces f(y) = g(4,y). Sea una máquina expendedora que recibe como input el dinero y el nombre del artículo, entonces si inicialmente damos el dinero, tenemos una función de 2 inputs ya evaluada en uno de los inputs.\n",
    "\n",
    "Para empezar a trabajar con F Sharp se puede usar la página web  \n",
    "fable.io\n",
    "\n",
    "\n"
   ]
  },
  {
   "attachments": {},
   "cell_type": "markdown",
   "metadata": {},
   "source": [
    "### Tipos de datos"
   ]
  },
  {
   "cell_type": "code",
   "execution_count": 10,
   "metadata": {
    "dotnet_interactive": {
     "language": "fsharp"
    },
    "polyglot_notebook": {
     "kernelName": "fsharp"
    }
   },
   "outputs": [
    {
     "name": "stdout",
     "output_type": "stream",
     "text": [
      "1\n",
      "2\n",
      "\"Hola Mundo\"\n",
      "1.0(10, \"Messi\")\n",
      "[1; 2; 3; 4]\n"
     ]
    }
   ],
   "source": [
    "let x = 1 //Nótese que al poner el cursor sobre la variable x aparece que es del tipo entero\n",
    "\n",
    "printfn \"%A\" x //La instrucción \"%A\" significa \"arreglate para imprimir lo que sigue\". Entiendo que prueba el tipo de dato y en función de ello sabe cómo imprimir lo que sigue\n",
    "\n",
    "//let x = x + 1 //Al hacer esto aparece el error \"Duplicate definition of value \"x\"\"\n",
    "let y = x + 1\n",
    "\n",
    "printfn \"%A\" y\n",
    "\n",
    "let texto = \"Hola Mundo\" //variable del tipo string\n",
    "\n",
    "printfn \"%A\" texto\n",
    "\n",
    "let z = 1.0 //variable del tipo float\n",
    "printf \"%A\" z\n",
    "\n",
    "let tupla = (10, \"Messi\") //tupla. Puede contener distintos tipos de datos. Nótese que los elementos se separan con \",\"\n",
    "printfn \"%A\" tupla\n",
    "\n",
    "let lista = [1;2;3;4] //lista de enteros. Nótese que los elementos se separan con \";\". A diferencia de Python las listas son \"homogéneas\", es decir, del mismo tipo de dato. Las listas son fundamentales en los lenguajes funcionales. \n",
    "printfn \"%A\" lista\n"
   ]
  },
  {
   "attachments": {},
   "cell_type": "markdown",
   "metadata": {},
   "source": [
    "### Funciones"
   ]
  },
  {
   "attachments": {},
   "cell_type": "markdown",
   "metadata": {},
   "source": [
    "#### Declaración de funciones"
   ]
  },
  {
   "cell_type": "code",
   "execution_count": 8,
   "metadata": {
    "dotnet_interactive": {
     "language": "fsharp"
    },
    "polyglot_notebook": {
     "kernelName": "fsharp"
    }
   },
   "outputs": [
    {
     "name": "stdout",
     "output_type": "stream",
     "text": [
      "4.0\n",
      "6.0\n",
      "<fun:it@18>\n"
     ]
    }
   ],
   "source": [
    "\n",
    "//En F# funciones y variables son lo mismo, así que se definen de la misma forma\n",
    "let next x =\n",
    "    x + 1\n",
    "//formato: nombre input =\n",
    "//identación output\n",
    "//Nótese que no hay un return, sino que se devuelve el resultado de la última línea\n",
    "\n",
    "let next_by2 (x:float) : float = //acá usamos paréntesis para separar expresiones entre sí\n",
    "    x + 2.0\n",
    "\n",
    "let n = next_by2 2\n",
    "\n",
    "printfn \"%A\" n\n",
    "\n",
    "printfn \"%A\" (next_by2 4)\n",
    "\n",
    "printfn \"%A\" (next_by2)\n",
    "\n"
   ]
  },
  {
   "attachments": {},
   "cell_type": "markdown",
   "metadata": {},
   "source": [
    "#### Composición de funciones"
   ]
  },
  {
   "cell_type": "code",
   "execution_count": 4,
   "metadata": {
    "dotnet_interactive": {
     "language": "fsharp"
    },
    "polyglot_notebook": {
     "kernelName": "fsharp"
    }
   },
   "outputs": [],
   "source": [
    "let next_by_comp =\n",
    "    next >> next //esto es equivalente a hacer next circulo next (como en matemática) y en ningún momento estamos escribiendo el x siquiera"
   ]
  },
  {
   "attachments": {},
   "cell_type": "markdown",
   "metadata": {},
   "source": [
    "#### Operador pipe\n",
    "\n",
    "Permite \"apilar composiciones\""
   ]
  },
  {
   "cell_type": "code",
   "execution_count": 7,
   "metadata": {
    "dotnet_interactive": {
     "language": "fsharp"
    },
    "polyglot_notebook": {
     "kernelName": "fsharp"
    }
   },
   "outputs": [
    {
     "name": "stdout",
     "output_type": "stream",
     "text": [
      "5\n"
     ]
    }
   ],
   "source": [
    "//Next by 2 pipe\n",
    "let next_by2_pipe x = //Esto es equivalente a hacer next(next(x)) haciendo las cuentas en cada evaluación\n",
    "    x\n",
    "    |> next //recibe el input anterior y calcula\n",
    "    |> next //recibe el input anterior y calcuka\n",
    "\n",
    "printfn \"%A\" (next_by2_pipe 3)"
   ]
  },
  {
   "attachments": {},
   "cell_type": "markdown",
   "metadata": {},
   "source": [
    "# Ejercicios\n",
    "\n",
    "No es necesario hacerlos en F#, se puede hacer en Python por ser la primera clase"
   ]
  },
  {
   "attachments": {},
   "cell_type": "markdown",
   "metadata": {},
   "source": [
    "## Ejercicio 1\n",
    "\n",
    "Funciones en la vida real\n",
    "* Escriba diez ejemplos de funciones en la vida real.\n",
    "* Escriba tres ejemplos de funciones que puedan componerse en la vida real.\n",
    "* Escriba tres ejemplos de la vida real donde se vea la aplicación parcial de funciones."
   ]
  },
  {
   "attachments": {},
   "cell_type": "markdown",
   "metadata": {},
   "source": [
    "* Escriba diez ejemplos de funciones en la vida real.\n",
    "    * Precios de productos en un supermercado\n",
    "    * Precio de un producto en el tiempo (inflación xd)\n",
    "    * Nombre de persona dado el DNI\n",
    "    * Género de persona dado el DNI\n",
    "    * Nro de personas con el mismo nombre dado el nombre\n",
    "    * Valor de las acciones de una empresa dado el nombre\n",
    "    * Materia que debería estar cursando un alumno dado su nombre\n",
    "    * Planeta dado el orden que le corresponde siendo el sol 0\n",
    "    * Conjunto de letras que forman el alfabeto que maneja una persona dada su nacionalidad\n",
    "    * Área de investigación correspondiente dadas las keywords de un paper\n",
    "* Escriba tres ejemplos de funciones que puedan componerse en la vida real.\n",
    "    * Nombre(Nombre_y_Apellido(DNI))\n",
    "    * Precio_actual(Inflacion(Precio_2010))\n",
    "    * Valor_de_accion(Nombre_de_accion(Nombre_de_empresa))\n",
    "* Escriba tres ejemplos de la vida real donde se vea la aplicación parcial de funciones.\n",
    "    * Maquina_expendedora(Dinero, Nombre_de_producto)\n",
    "    * Materia_que_deberia_estar_cursando(Nombre, Apellido)\n",
    "    * Relleno_DNI(Nombre, Apellido, DNI)\n"
   ]
  },
  {
   "attachments": {},
   "cell_type": "markdown",
   "metadata": {},
   "source": [
    "## Ejercicio 2\n",
    "\n",
    "Una introducción a un Kata  \n",
    "\n",
    "Un kata es un ejercicio de programación que puede resolverse en una o dos horas. En general se presenta como un ejercicio con varias partes, que deben ser resueltas en el orden indicado. A diferencia de un ejercicio a secas, hay algunas reglas para seguir.\n",
    "\n",
    "1. En cada parte del ejercicio, se busca mejorar la forma en que se implementó el código, respecto de la parte anterior.\n",
    "2. Es fundamental escribir tests. Esto es, pequeños programas para probar el código en casos conocidos. El programa final que resuelve el ejercicio debe ser capaz de pasar todos los tests escritos."
   ]
  },
  {
   "attachments": {},
   "cell_type": "markdown",
   "metadata": {},
   "source": [
    "FizzBuzz Kata\n",
    "\n",
    "Este es un ejercicio clásico de programación. Use su lenguaje de programación habitual.\n",
    "\n",
    "Escriba un programa que imprime los números del 1 al 100. Pero, cuando un número es múltiplo de tres, tiene que imprimir Fizz en lugar del número. Y para números múltiplos de cinco, tiene que imprimir Buzz en lugar del número. además, si el número es múltiplo de tres y cinco, debe imprimir FizzBuzz. Por ejemplo, 9 es divisible por 3, con lo cual debe imprimirse Fizz. 15 es divisible por 3 y por 5, con lo cual debe imprimirse FizzBuzz. 25 es divisible por 5, con lo cual debe imprimirse Buzz. 34 no es divisible ni por 3 ni por 5, con lo cual debe imprimirse 34."
   ]
  },
  {
   "cell_type": "code",
   "execution_count": 18,
   "metadata": {},
   "outputs": [],
   "source": [
    "import numpy as np\n",
    "strings = np.array([\"Fizz\", \"Buzz\", \"Whizz\"])\n",
    "numbers = np.array([3,5, 7])"
   ]
  },
  {
   "cell_type": "code",
   "execution_count": 26,
   "metadata": {
    "dotnet_interactive": {
     "language": "csharp"
    },
    "polyglot_notebook": {
     "kernelName": "csharp"
    }
   },
   "outputs": [
    {
     "name": "stdout",
     "output_type": "stream",
     "text": [
      "1\n",
      "2\n",
      "Fizz\n",
      "4\n",
      "Buzz\n",
      "Fizz\n",
      "Whizz\n",
      "8\n",
      "Fizz\n",
      "Buzz\n",
      "11\n",
      "Fizz\n",
      "13\n",
      "Whizz\n",
      "FizzBuzz\n",
      "16\n",
      "17\n",
      "Fizz\n",
      "19\n",
      "Buzz\n",
      "FizzWhizz\n",
      "22\n",
      "23\n",
      "Fizz\n",
      "Buzz\n",
      "26\n",
      "Fizz\n",
      "Whizz\n",
      "29\n",
      "FizzBuzz\n",
      "31\n",
      "32\n",
      "Fizz\n",
      "34\n",
      "BuzzWhizz\n",
      "Fizz\n",
      "37\n",
      "38\n",
      "Fizz\n",
      "Buzz\n",
      "41\n",
      "FizzWhizz\n",
      "43\n",
      "44\n",
      "FizzBuzz\n",
      "46\n",
      "47\n",
      "Fizz\n",
      "Whizz\n",
      "Buzz\n",
      "Fizz\n",
      "52\n",
      "53\n",
      "Fizz\n",
      "Buzz\n",
      "Whizz\n",
      "Fizz\n",
      "58\n",
      "59\n",
      "FizzBuzz\n",
      "61\n",
      "62\n",
      "FizzWhizz\n",
      "64\n",
      "Buzz\n",
      "Fizz\n",
      "67\n",
      "68\n",
      "Fizz\n",
      "BuzzWhizz\n",
      "71\n",
      "Fizz\n",
      "73\n",
      "74\n",
      "FizzBuzz\n",
      "76\n",
      "Whizz\n",
      "Fizz\n",
      "79\n",
      "Buzz\n",
      "Fizz\n",
      "82\n",
      "83\n",
      "FizzWhizz\n",
      "Buzz\n",
      "86\n",
      "Fizz\n",
      "88\n",
      "89\n",
      "FizzBuzz\n",
      "Whizz\n",
      "92\n",
      "Fizz\n",
      "94\n",
      "Buzz\n",
      "Fizz\n",
      "97\n",
      "Whizz\n",
      "Fizz\n",
      "Buzz\n",
      "101\n",
      "Fizz\n",
      "103\n",
      "104\n",
      "FizzBuzzWhizz\n"
     ]
    }
   ],
   "source": [
    "def sumar_strings(lista):\n",
    "    suma = \"\"\n",
    "    for palabra in lista:\n",
    "        suma = suma + palabra\n",
    "    return suma\n",
    "\n",
    "def FizzBuzz_Kata(N):\n",
    "    '''\n",
    "    N: nro máximo hasta el que se imprime\n",
    "    '''\n",
    "    #Controlo N > 1:\n",
    "    if N<=1:\n",
    "        raise Exception(\"N debe ser mayor a 1\")\n",
    "\n",
    "    for i in range(1,N+1):\n",
    "        indices = i%numbers == 0\n",
    "        if np.sum(indices) == 0: #Ningún nro es divisible\n",
    "            print(i)\n",
    "        else: #Sumo los strings correspondiente\n",
    "            print(sumar_strings(strings[indices]))\n",
    "\n",
    "N = 3*7*5\n",
    "FizzBuzz_Kata(N)"
   ]
  },
  {
   "attachments": {},
   "cell_type": "markdown",
   "metadata": {},
   "source": [
    "El Kata de los precios en el supermercado"
   ]
  },
  {
   "attachments": {},
   "cell_type": "markdown",
   "metadata": {},
   "source": [
    "En el ejemplo anterior hicimos\n",
    "* Refactoring: en cada índice tomamos el código anterior y los modificamos para que se adapte a la nueva situación. Además, para hacer tests no es necesario correr todo el for, sino que bastaba con testear con un nro particular. De este modo, tenemos una función aislada sobre la que podemos hacer tests. Según entiendo, refactoring hace referencia a reescribir el código para que sea del estilo funcional. Significa extraer complejidad y ponerla en otras funciones de modo que se puedan testear solas por separado.\n",
    "* Unit Testing: se testea la función por separado en distintos casos, ej \"9 es divisible por 3, con lo cual debe imprimirse Fizz\". Hay bibliotecas de Unit Testing. Tmb hay otros tipos de tests: como tests \"end to end\" o \"test de integración\" que pasa por varias funciones y ve si están conectadas de forma correcta.\n",
    "\n",
    "Es muy útil el Unit Testing porque nos ayuda a prevenir errores.\n",
    "\n",
    "En códigos complejos se define la \"cobertura de tests\" como el porcentaje de las líneas de código sobre las que se hizo unit testing.\n",
    "\n",
    "\n",
    "Además, el ejercicio anterior se podría haber resuelto usando diccionarios"
   ]
  },
  {
   "cell_type": "code",
   "execution_count": null,
   "metadata": {},
   "outputs": [],
   "source": []
  }
 ],
 "metadata": {
  "kernelspec": {
   "display_name": "Python 3",
   "language": "python",
   "name": "python3"
  },
  "language_info": {
   "codemirror_mode": {
    "name": "ipython",
    "version": 3
   },
   "file_extension": ".py",
   "mimetype": "text/x-python",
   "name": "python",
   "nbconvert_exporter": "python",
   "pygments_lexer": "ipython3",
   "version": "3.10.9"
  },
  "orig_nbformat": 4,
  "polyglot_notebook": {
   "kernelInfo": {
    "defaultKernelName": "csharp",
    "items": [
     {
      "aliases": [],
      "name": "csharp"
     }
    ]
   }
  }
 },
 "nbformat": 4,
 "nbformat_minor": 2
}

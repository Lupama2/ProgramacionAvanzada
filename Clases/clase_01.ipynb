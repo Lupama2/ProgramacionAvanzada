{
 "cells": [
  {
   "attachments": {},
   "cell_type": "markdown",
   "metadata": {},
   "source": [
    "# Clase 2\n",
    "\n",
    "¿Por qué es útil F# respecto a otros lenguajes?\n",
    "\n",
    "Un código comentado es un texto en 2 lenguajes distinto. No está bueno comentar mucho porque estamos escribiendo lo mismo en 2 lenguajes. El problema es que puede ser que digan cosas distintas.\n",
    "\n",
    "La ventaja de los lenguajes funcionales es que no es necesario comentar mucho\n",
    "\n",
    "Un campo de un record podría recibir funciones. \n",
    "\n",
    "\n",
    "Las discriminated union son como tener un case (de C++) dentro de un tipo de dato\n",
    "\n",
    "Es útil usar discriminated union para restringir el modelo a determinados tipos. Para representar el input de una máquina expendedora podría usar todos los reales, pero realmente el nro va a poder tomar solo unos cuantos valores.\n",
    "\n",
    "En el código\n"
   ]
  },
  {
   "cell_type": "code",
   "execution_count": null,
   "metadata": {
    "dotnet_interactive": {
     "language": "fsharp"
    },
    "polyglot_notebook": {
     "kernelName": "fsharp"
    },
    "vscode": {
     "languageId": "polyglot-notebook"
    }
   },
   "outputs": [],
   "source": [
    "    match change with \n",
    "    | Amount money -> money\n",
    "    | NoChange -> 0 \n",
    "\n",
    "let c = Amount 3 \n",
    "\n",
    "printfn \"You are receiving %A $ as change\" (changeValue c)"
   ]
  },
  {
   "attachments": {},
   "cell_type": "markdown",
   "metadata": {},
   "source": [
    "c es una variable del tipo change. El compilador se da cuenta porque Amount solo está definido dentro de la discriminated union change. Escribir"
   ]
  },
  {
   "cell_type": "code",
   "execution_count": null,
   "metadata": {
    "dotnet_interactive": {
     "language": "fsharp"
    },
    "polyglot_notebook": {
     "kernelName": "fsharp"
    },
    "vscode": {
     "languageId": "polyglot-notebook"
    }
   },
   "outputs": [],
   "source": [
    "let c = Amount 3"
   ]
  },
  {
   "attachments": {},
   "cell_type": "markdown",
   "metadata": {},
   "source": [
    "es equivalente a escribir"
   ]
  },
  {
   "cell_type": "code",
   "execution_count": null,
   "metadata": {
    "dotnet_interactive": {
     "language": "fsharp"
    },
    "polyglot_notebook": {
     "kernelName": "fsharp"
    },
    "vscode": {
     "languageId": "polyglot-notebook"
    }
   },
   "outputs": [],
   "source": [
    "let c = change.Amount 3"
   ]
  },
  {
   "attachments": {},
   "cell_type": "markdown",
   "metadata": {},
   "source": [
    "No entiendo el párrafo\n",
    "> Notar sobre cómo una unión discriminada que mezcla tipos básicos parece presentar una especie de divergencia en el código. El tipo `Change` combina un tipo `float` envuelto (con `Amount`) y un tipo de unión pura `NoChange`. Dado que las funciones deben tener tipos de entrada y salida específicos, cualquier función que reciba una entrada `Change` tiene que devolver una salida definida. Normalmente hay dos posibilidades. La primera es que la función _aplane_ las entradas (]como en el caso de `changeValue`), donde se obtiene el valor flotante del dinero que recibe el usuario. La segunda corresponde a una función que promueve los tipos de entrada a otro: por ejemplo, el caso trivial sería una función que imprime la cantidad de dinero que recibe el cliente, `imprimeCambio: Change -> ()`, es decir, recibe un 'Cambio' y devuelve 'unidad'.\n",
    "> Esta es una de las ideas clave detrás de la programación funcional, poder conectar diferentes tipos a través de funciones.\n",
    "Me dijo que lo vamos a volver a ver la próxima clase\n",
    "\n",
    "El código"
   ]
  },
  {
   "cell_type": "code",
   "execution_count": null,
   "metadata": {
    "dotnet_interactive": {
     "language": "csharp"
    },
    "polyglot_notebook": {
     "kernelName": "csharp"
    },
    "vscode": {
     "languageId": "polyglot-notebook"
    }
   },
   "outputs": [],
   "source": [
    "let (Model yPhoneModel) = yPhone\n",
    "printfn \"The model of the yPhone is %A\" yPhoneModel"
   ]
  },
  {
   "attachments": {},
   "cell_type": "markdown",
   "metadata": {},
   "source": [
    "desempaqueta el string dentro de Model (el Model llamado es el Model de dentro de la definición del tipo Model). Esto es idéntico a haber hecho un match de un único elemento.\n"
   ]
  },
  {
   "attachments": {},
   "cell_type": "markdown",
   "metadata": {},
   "source": [
    "En resumen, hasta ahora vimos\n",
    "\n",
    "Tipos de datos:  \n",
    "Básicos  \n",
    "* Enteros\n",
    "* Floats\n",
    "* Strings\n",
    "* Bool definitos como  \n",
    "type bool =   \n",
    "\t| true  \n",
    "\t| false  \n",
    "* Unit ()    \n",
    "Tipos de datos algebraicos:  \n",
    "* Tipo suma: discriminated unions  \n",
    "* Tipo producto: records\n"
   ]
  },
  {
   "attachments": {},
   "cell_type": "markdown",
   "metadata": {},
   "source": [
    "---\n",
    "layout: post\n",
    "title: Ejercicios de tipos \n",
    "tagline: Unos ejercicios livianos para empezar a trabajar con dominios.\n",
    "categories: \n",
    "- F# as your first functional programming language\n",
    "tags:\n",
    "- fsharp\n",
    "---\n",
    "\n",
    "## Ejercicios\n",
    "\n",
    "Unos ejercicios livianos para empezar a trabajar con dominios.\n",
    "\n",
    "### El video de la semana\n",
    "\n",
    "[_The Art of Code_, Dylan Beattie](https://youtu.be/6avJHaC3C2U)\n",
    "\n",
    "### Monedas\n",
    "\n",
    "En algún momento, un cliente ingresará cierta cantidad de cada moneda para comprar un producto en la máquina expendedora de alimentos. La máquina recibe monedas de 10, 25 y 50 centavos únicamente.\n",
    "\n",
    "- Modelar un tipo `Monedas` que dé cuenta del número de cada una de las monedas que recibe la máquina.\n",
    "- Crear una función `cantidad` que reciba un valor de `Monedas` y devuelva la cantidad en $\\$$ que el cliente introdujo en la máquina.\n",
    "\n",
    "> 💡 La función `float` se puede usar para convertir un valor entero a un tipo flotante\n",
    "\n",
    "**Necesariamente tiene que sen un record???**"
   ]
  },
  {
   "cell_type": "code",
   "execution_count": 14,
   "metadata": {
    "dotnet_interactive": {
     "language": "fsharp"
    },
    "polyglot_notebook": {
     "kernelName": "fsharp"
    },
    "vscode": {
     "languageId": "polyglot-notebook"
    }
   },
   "outputs": [
    {
     "name": "stdout",
     "output_type": "stream",
     "text": [
      "2.15"
     ]
    }
   ],
   "source": [
    "// =\n",
    "type Monedas = \n",
    "    {\n",
    "        M10: int\n",
    "        M25: int\n",
    "        M50: int\n",
    "    }\n",
    "\n",
    "let test = \n",
    "    {\n",
    "        M10 = 4\n",
    "        M25 = 3\n",
    "        M50 = 2\n",
    "    }\n",
    "\n",
    "// printf \"%A\" test.M10\n",
    "\n",
    "let Cantidad (dinero: Monedas) =\n",
    "    0.10*(float dinero.M10) + 0.25*(float dinero.M25) + 0.50*(float dinero.M50)\n",
    "\n",
    "printf \"%A\" (Cantidad test)"
   ]
  },
  {
   "attachments": {},
   "cell_type": "markdown",
   "metadata": {},
   "source": [
    "### Lugares en la máquina expendedora\n",
    "\n",
    "El vendedor de la máquina expendedora de alimentos proporciona a la máquina diferentes lugares en cada estante para acomodar productos que tienen diferentes tamaños. El vendedor ofrece tres tamaños diferentes, simple, doble y triple.\n",
    "\n",
    "- Modelar los tamaños de los lugares en un tipo `SlotSize`.\n",
    "- Extienda el modelo `FoodMachineItem` para agregar el tamaño del producto medido por el tamaño de la lugar que ocupa.\n",
    "\n"
   ]
  },
  {
   "cell_type": "code",
   "execution_count": 15,
   "metadata": {
    "dotnet_interactive": {
     "language": "fsharp"
    },
    "polyglot_notebook": {
     "kernelName": "fsharp"
    },
    "vscode": {
     "languageId": "polyglot-notebook"
    }
   },
   "outputs": [],
   "source": [
    "type SlotSize=\n",
    "    | Simple\n",
    "    | Doble\n",
    "    | Triple"
   ]
  },
  {
   "attachments": {},
   "cell_type": "markdown",
   "metadata": {},
   "source": [
    "**BrandedFood es un tipo de dato compuesto? En el que se convinan discriminated unions y strings??** Está en la clase pero no lo entiendo"
   ]
  },
  {
   "cell_type": "code",
   "execution_count": 24,
   "metadata": {
    "dotnet_interactive": {
     "language": "fsharp"
    },
    "polyglot_notebook": {
     "kernelName": "fsharp"
    },
    "vscode": {
     "languageId": "polyglot-notebook"
    }
   },
   "outputs": [
    {
     "name": "stdout",
     "output_type": "stream",
     "text": [
      "Chocolate \"Rapanui Blanco\""
     ]
    }
   ],
   "source": [
    "type FoodProduct =\n",
    "    | Chips\n",
    "    | Chocolate\n",
    "    | Candy \n",
    "\n",
    "type BrandedFood =\n",
    "    | Chips of string \n",
    "    | Chocolate of string \n",
    "    | Candy of string     \n",
    "\n",
    "type FoodMachineItem =\n",
    "    {\n",
    "        Brand: BrandedFood\n",
    "        ProductType: FoodProduct \n",
    "        Price: float \n",
    "        ProductSize: SlotSize\n",
    "    }\n",
    "\n",
    "//Testeo:\n",
    "let (Rapanui:FoodMachineItem) =\n",
    "    {\n",
    "        Brand = BrandedFood.Chocolate \"Rapanui Blanco\"\n",
    "        ProductType = FoodProduct.Chocolate\n",
    "        Price = 10.\n",
    "        ProductSize = SlotSize.Simple\n",
    "    }\n",
    "\n",
    "printf \"%A\" Rapanui.Brand"
   ]
  },
  {
   "attachments": {},
   "cell_type": "markdown",
   "metadata": {},
   "source": [
    "### Maquina de café\n",
    "\n",
    "Nuestro cliente de máquinas expendedoras quiere agregar una máquina de café justo al lado de la máquina expendedora de alimentos y quiere que preparemos el software para administrarla. Como conversación de primera ronda, nos han informado que la cafetera servirá café y té negro. A ambos se les puede agregar azúcar y crema. También tendrá chocolate y capuchino, con la única opción de agregar azúcar. Finalmente, también servirá un saludable té verde o blanco que se puede cubrir solo con leche. Comience a modelar la máquina de café introduciendo los tipos para describir todas estas bebidas.\n"
   ]
  },
  {
   "attachments": {},
   "cell_type": "markdown",
   "metadata": {},
   "source": [
    "**Solo puedo agregar un tipo de extra? En mi ejemplo no puedo agregar azucar y facé al mismo tiempo**\n",
    "**¿Cómo hago para conectar Bebidas y Extras sin necesidad de crear cada tipo de pedido por separado??**\n"
   ]
  },
  {
   "cell_type": "code",
   "execution_count": 25,
   "metadata": {
    "dotnet_interactive": {
     "language": "fsharp"
    },
    "polyglot_notebook": {
     "kernelName": "fsharp"
    },
    "vscode": {
     "languageId": "polyglot-notebook"
    }
   },
   "outputs": [
    {
     "ename": "Error",
     "evalue": "input.fsx (5,11)-(5,12) parse error No se esperaba símbolo ':'. en definición de tipo. Se esperaba '(' u otro token.\ninput.fsx (5,11)-(5,12) interactive error error interno: parse error",
     "output_type": "error",
     "traceback": [
      "input.fsx (5,11)-(5,12) parse error No se esperaba símbolo ':'. en definición de tipo. Se esperaba '(' u otro token.\n",
      "input.fsx (5,11)-(5,12) interactive error error interno: parse error"
     ]
    }
   ],
   "source": [
    "type Bebidas =\n",
    "    | Cafe\n",
    "    | TeNegro\n",
    "    | Chocolate\n",
    "    | Capuchino\n",
    "    | TeVerde\n",
    "    | TeBlanco\n",
    "\n",
    "type Extras = \n",
    "    | AzucaryCrema\n",
    "    | Azucar\n",
    "    | Leche\n",
    "\n",
    "type Pedido =\n",
    "    {\n",
    "        Bebida: Bebidas\n",
    "        Extra: bool //En caso positivo, los extras son \"obvios\"\n",
    "    }\n",
    "\n",
    "\n",
    "\n"
   ]
  },
  {
   "attachments": {},
   "cell_type": "markdown",
   "metadata": {},
   "source": [
    "\n",
    "### Poker (o Truco)\n",
    "\n",
    "- Usando uniones discriminadas y/o records, modelar un mazo de cartas francesas (poker) o españolas (truco), sin comodines.\n",
    "- Cómo cambiaría el modelo anterior si se incluyen dos comodines por mazo?"
   ]
  },
  {
   "attachments": {},
   "cell_type": "markdown",
   "metadata": {},
   "source": [
    "**Está bien? Cómo limito los ints a los que se puede acceder??**"
   ]
  },
  {
   "cell_type": "code",
   "execution_count": 26,
   "metadata": {
    "dotnet_interactive": {
     "language": "fsharp"
    },
    "polyglot_notebook": {
     "kernelName": "fsharp"
    },
    "vscode": {
     "languageId": "polyglot-notebook"
    }
   },
   "outputs": [],
   "source": [
    "type Palo = \n",
    "    | Basto\n",
    "    | Espada\n",
    "    | Copa\n",
    "    | Oro\n",
    "\n",
    "type CartaStd = //Carta Standard\n",
    "    {\n",
    "        Nro: int //Técniamente solo se pueden usar entre 1 y 12, pero no se podría usar 8 y 9...\n",
    "        Palo: Palo\n",
    "    }"
   ]
  },
  {
   "cell_type": "code",
   "execution_count": 27,
   "metadata": {
    "dotnet_interactive": {
     "language": "fsharp"
    },
    "polyglot_notebook": {
     "kernelName": "fsharp"
    },
    "vscode": {
     "languageId": "polyglot-notebook"
    }
   },
   "outputs": [],
   "source": [
    "//Incluyendo comodines:\n",
    "\n",
    "type Carta = \n",
    "    | CartaStd of CartaStd\n",
    "    | Comodin\n"
   ]
  },
  {
   "cell_type": "code",
   "execution_count": 33,
   "metadata": {
    "dotnet_interactive": {
     "language": "fsharp"
    },
    "polyglot_notebook": {
     "kernelName": "fsharp"
    },
    "vscode": {
     "languageId": "polyglot-notebook"
    }
   },
   "outputs": [],
   "source": [
    "let (testCarta: CartaStd) = \n",
    "    {\n",
    "    Nro = 10\n",
    "    Palo = Espada\n",
    "    }\n",
    "\n",
    "// let (test: Carta) = CartaStd testCarta\n",
    "let (test: Carta) = Comodin"
   ]
  },
  {
   "cell_type": "code",
   "execution_count": 34,
   "metadata": {
    "dotnet_interactive": {
     "language": "fsharp"
    },
    "polyglot_notebook": {
     "kernelName": "fsharp"
    },
    "vscode": {
     "languageId": "polyglot-notebook"
    }
   },
   "outputs": [
    {
     "name": "stdout",
     "output_type": "stream",
     "text": [
      "Comodin"
     ]
    }
   ],
   "source": [
    "printf \"%A\" test"
   ]
  },
  {
   "cell_type": "code",
   "execution_count": null,
   "metadata": {
    "dotnet_interactive": {
     "language": "fsharp"
    },
    "polyglot_notebook": {
     "kernelName": "fsharp"
    },
    "vscode": {
     "languageId": "polyglot-notebook"
    }
   },
   "outputs": [],
   "source": []
  }
 ],
 "metadata": {
  "language_info": {
   "name": "python"
  },
  "orig_nbformat": 4
 },
 "nbformat": 4,
 "nbformat_minor": 2
}

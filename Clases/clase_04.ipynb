{
 "cells": [
  {
   "attachments": {},
   "cell_type": "markdown",
   "metadata": {},
   "source": [
    "# Clase 04"
   ]
  },
  {
   "attachments": {},
   "cell_type": "markdown",
   "metadata": {},
   "source": [
    "\n",
    "No me queda clara la definición\n",
    "type List<'T> = \n",
    "       | ([])  \n",
    "       | ( :: )  of Head: 'T * Tail: 'T list\n",
    "\n",
    "list y List son cosas distintas, pero las funciones de List se pueden aplicar a list\n",
    "\n",
    "Lo siguiente es una discriminated union?\n",
    "type Position = GoalKeeper | Defender | Midfielder | Forward \n",
    "\n",
    "No me queda clara la nomenclatura de\n",
    "let almostPrettyPrintList l = \n",
    "    l \n",
    "    |> List.iter (fun elem -> printfn \"%A\" elem)\n",
    "\n",
    "En los Maps se pueden agregar elementos, pero no eran inmutables?? O esto significa que no se pueden modificar los elementos ya añadidos?\n",
    "\n"
   ]
  },
  {
   "cell_type": "code",
   "execution_count": 9,
   "metadata": {
    "dotnet_interactive": {
     "language": "fsharp"
    },
    "polyglot_notebook": {
     "kernelName": "fsharp"
    },
    "vscode": {
     "languageId": "polyglot-notebook"
    }
   },
   "outputs": [
    {
     "name": "stdout",
     "output_type": "stream",
     "text": [
      "3"
     ]
    }
   ],
   "source": [
    "// ¿Cómo hago para usar pipeline y al final definir una variable como el resultado de todo el pipe?\n",
    "let suma a b =\n",
    "    a + b\n",
    "\n",
    "let x = 1\n",
    "\n",
    "let y =\n",
    "    x |> suma 2\n",
    "\n",
    "printf \"%A\" y\n"
   ]
  },
  {
   "attachments": {},
   "cell_type": "markdown",
   "metadata": {},
   "source": [
    "\n",
    "### Trenes ingleses\n",
    "\n",
    "> Este es un dominio de verdad, tratado por [Kit Easton en su libro Stylish F#](https://doi.org/10.1007/978-1-4842-4000-7_2), cuya lectura recomiendo. En particular, el primer capítulo es de lectura imprescindible para comprender qué significa un estilo de programación, más allá\n",
    "del lenguaje usado.\n",
    "\n",
    "Los trenes británicos, antes de pasar al sistema decimal, usaban como medidas la milla y la yarda. Una milla tiene 1760 yardas, y una \n",
    "yarda es igual a 0.9144 metros. Como si esto fuera poco, el sistema que se utilizaba para escribir las distancias era un número decimal, \n",
    "donde la parte entera es el número de millas, _y la parte fraccional el número de yardas_... Entonces, una milla y media se escribe como \n",
    "1.0880, puesto que 880 es exactamente 1760 yardas dividido dos. La parte fraccionaria entonces toma valores desde 0.0 hasta 0.1759. Siguiendo\n",
    "a Easton, llamaremos a esta notación _millas.yardas_.\n",
    "\n",
    "- Escriba funciones para convertir de la notación millas.yardas a millas decimales, y viceversa.\n",
    "\n",
    "No contentos con esto, a veces no se utiliza las millas.yardas, sino que se usa la notación _millas y cadenas_, donde una cadena se define\n",
    "como 22 yardas. \n",
    "\n",
    "- Escriba las funciones para convertir esta nueva notación a las anteriores.\n",
    "\n",
    "**Esto es idéntico a lo anterior, no? Cuál era la idea del problema?? Hacerlo con listas?**\n"
   ]
  },
  {
   "cell_type": "code",
   "execution_count": 11,
   "metadata": {
    "dotnet_interactive": {
     "language": "fsharp"
    },
    "polyglot_notebook": {
     "kernelName": "fsharp"
    },
    "vscode": {
     "languageId": "polyglot-notebook"
    }
   },
   "outputs": [
    {
     "name": "stdout",
     "output_type": "stream",
     "text": [
      "1.5\n",
      "1.088"
     ]
    }
   ],
   "source": [
    "//Factores de conversión\n",
    "let mi_to_yard:float = 1760\n",
    "let yard_to_m:float = 0.9144\n",
    "\n",
    "let miyard_to_mi (n:float) =\n",
    "    let mi = float (int n)\n",
    "    let yards = (n - mi)*10000.\n",
    "    mi + yards/mi_to_yard\n",
    "\n",
    "let mi_to_miyard (n:float) =\n",
    "    let mi = float (int n)\n",
    "    let mi_dec = (n - mi)\n",
    "    mi + mi_dec*mi_to_yard/10000.\n",
    "\n",
    "printf \"%A\" (miyard_to_mi 1.0880)\n",
    "\n",
    "printf \"\\n%A\" (mi_to_miyard (miyard_to_mi 1.0880))"
   ]
  },
  {
   "attachments": {},
   "cell_type": "markdown",
   "metadata": {},
   "source": [
    "\n",
    "### Manejando ventanas\n",
    "\n",
    "En cualquier sistema operativo con interface gráfica existe el concepto de _ventanas_. Una ventana es un rectángulo de un dado ancho y un \n",
    "dado alto, medidos en pixeles, que se posiciona en algún lugar de la ventana principal que brinda el sistema, comunmente denominada _escritorio_. \n",
    "El escritorio tiene un tamaño dado también en píxeles, determinado por la resolución del monitor. Para fijar ideas, asumamos que esta \n",
    "resolución corresponde a _Full HD_, es decir, 1920 x 1080 pixeles. La esquina superior izquierda del escritorio es el origen de coordenadas,\n",
    "mientras que la esquina inferior derecha corresponde a x=1919, y=1079.\n",
    "La posición de la ventana se refiere a la coordenada (x,y) de su esquina superior izquierda, referida al origen de coordenadas del escritorio.\n",
    "\n",
    "- Defina un tipo de dato para representar una ventana, y su posición en el escritorio.\n",
    "- Escriba funciones para manejar las ventanas de los programas abiertos, esto es:\n",
    "  \n",
    "  - Crear una ventana al abrir un programa y agregarla a la colección actual de ventanas. \n",
    "  - Cerrar una ventana y removerla de la colección actual de ventanas.\n",
    "  - Maximizar una ventana.\n",
    "  - Minimizar una ventana.\n",
    "  **En las funciones 2 a 4 estoy asumiendo que la ventana existe, tengo que poner manejo de excepciones**\n",
    "- Las ventanas pueden estar superpuestas unas con otras, de modo tal que es necesario saber cuál ventana está más arriba que otra. Agregue\n",
    "este requerimiento a los tipos de datos y funciones anteriores, modificando lo necesario.\n",
    "**¿Está bien cómo lo hice?**\n",
    "- Para mejorar el funcionamiento, el sistema operativo no dibuja aquellas partes de las ventanas que se encuentran ocultas. Escriba funciones\n",
    "  que le permitan al sistema operativo calcular la _oclusión_ entre dos ventanas, esto es, determinar el área superpuesta entre esas dos\n",
    "  ventanas.\n",
    "  **Todavía no hice esta función. Tengo que pensar bien los casos y cómo calcular el área**\n"
   ]
  },
  {
   "cell_type": "code",
   "execution_count": 46,
   "metadata": {
    "dotnet_interactive": {
     "language": "fsharp"
    },
    "polyglot_notebook": {
     "kernelName": "fsharp"
    },
    "vscode": {
     "languageId": "polyglot-notebook"
    }
   },
   "outputs": [
    {
     "name": "stdout",
     "output_type": "stream",
     "text": [
      "0\n",
      "1\n",
      "{ nombre = \"Office\"\n",
      "  posicion = (0, 0)\n",
      "  tamaño = (100, 100)\n",
      "  orden = 1 }"
     ]
    }
   ],
   "source": [
    "type ventana =\n",
    "    {\n",
    "        nombre: string //Nombre del programa al que corresponde\n",
    "        posicion: int*int //coordenadas (x,y) \n",
    "        tamaño: int*int //tamaño (ancho, alto)\n",
    "        orden: int\n",
    "    }\n",
    "\n",
    "let res_x = 1920\n",
    "let res_y = 1080\n",
    "\n",
    "//Tengo que poder: añadir elementos, sustraerlos, modificarlos y ordenarlos. Uso escritorios\n",
    "\n",
    "let crear_ventana nombre posicion tamaño ventanas =\n",
    "    let ordenes = (List.map (fun elem -> elem.orden) ventanas) //lista de ordenes\n",
    "    let order_max = List.max ordenes\n",
    "\n",
    "    let new_ventana = \n",
    "        {   \n",
    "            nombre = nombre\n",
    "            posicion = posicion\n",
    "            tamaño = tamaño\n",
    "            orden = order_max + 1 // (List.max ordenes)\n",
    "            // orden = ventanas.orden.max\n",
    "        }\n",
    "    ventanas @ [new_ventana]\n",
    "     \n",
    "let cerrar_ventana nombre ventanas = \n",
    "    // List.find (fun p -> p.nombre = nombre) ventanas\n",
    "    snd (List.partition (fun p -> p.nombre = nombre) ventanas)\n",
    "\n",
    "let maximizar_ventana nombre ventanas =\n",
    "    cerrar_ventana nombre ventanas\n",
    "    |> crear_ventana nombre (0,0) (res_x, res_y)\n",
    "\n",
    "let minimizar_ventana nombre ventanas =\n",
    "    cerrar_ventana nombre ventanas\n",
    "    |> crear_ventana nombre (0,0) (0,0)\n",
    "\n",
    "let oclusion nombre_1 nombre_2 ventanas =\n",
    "    // let ventana_1 List.find (fun p -> p.nombre = nombre_1) ventanas\n",
    "    // let ventana_2 List.find (fun p -> p.nombre = nombre_2) ventanas\n",
    "\n",
    "    // x1 tx1\n",
    "    // x2 tx2\n",
    "\n",
    "    // tx1 + x1 - x2\n",
    "\n",
    "\n",
    "let escritorio =\n",
    "    {\n",
    "        nombre = \"Escritorio\"\n",
    "        posicion = (0,0)\n",
    "        tamaño = (res_x,res_y)\n",
    "        orden = 0\n",
    "    }\n",
    "\n",
    "//ventana1\n",
    "let nombre_1 = \"Office\"\n",
    "let posicion_1 = (0,0)\n",
    "let tamaño_1 = (100,100)\n",
    "\n",
    "\n",
    "//ventana2\n",
    "let nombre_2 = \"Chrome\"\n",
    "let posicion_2 = (500,500)\n",
    "let tamaño_2 = (200,200)\n",
    "\n",
    "\n",
    "//Inicializo\n",
    "let ventanas = [escritorio]\n",
    "\n",
    "// printf \"Añado ventana 1: %A\" (crear_ventana nombre_1 posicion_1 tamaño_1 ventanas)\n",
    "\n",
    "// crear_ventana nombre_1 posicion_1 tamaño_1 ventanas\n",
    "// |> cerrar_ventana nombre_1\n",
    "// |> printf \"\\nElimino ventana 1: %A\"\n",
    "\n",
    "// let ventanas_2 = crear_ventana nombre_2 posicion_2 tamaño_2 ventanas\n",
    "// maximizar_ventana nombre_2 ventanas_2\n",
    "// |> printf \"\\n Añado ventana 2 y maximizo: %A\"\n",
    "\n",
    "// ventanas_2\n",
    "// |> minimizar_ventana nombre_2\n",
    "// |> printf \"\\n Ahora la minimizo: %A\"\n",
    "\n",
    "\n",
    "let ventanas_1 = crear_ventana nombre_1 posicion_1 tamaño_1 ventanas\n",
    "\n",
    "\n",
    "let print_something lista = \n",
    "    lista\n",
    "    |> List.iter (fun elem -> printfn \"%A\" elem.orden)\n",
    "\n",
    "print_something ventanas_1\n",
    "\n",
    "let ventanas_12 = (crear_ventana nombre_2 posicion_2 tamaño_2 ventanas_1)\n",
    "\n",
    "oclusion nombre_1 nombre_2 ventanas_12"
   ]
  },
  {
   "cell_type": "code",
   "execution_count": null,
   "metadata": {
    "dotnet_interactive": {
     "language": "fsharp"
    },
    "polyglot_notebook": {
     "kernelName": "fsharp"
    },
    "vscode": {
     "languageId": "polyglot-notebook"
    }
   },
   "outputs": [],
   "source": []
  }
 ],
 "metadata": {
  "language_info": {
   "name": "python"
  },
  "orig_nbformat": 4
 },
 "nbformat": 4,
 "nbformat_minor": 2
}
